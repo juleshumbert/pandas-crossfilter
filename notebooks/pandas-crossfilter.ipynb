{
 "cells": [
  {
   "cell_type": "code",
   "execution_count": 37,
   "metadata": {
    "collapsed": false
   },
   "outputs": [
    {
     "name": "stdout",
     "output_type": "stream",
     "text": [
      "The autoreload extension is already loaded. To reload it, use:\n",
      "  %reload_ext autoreload\n"
     ]
    },
    {
     "data": {
      "application/javascript": [
       "require.config({\n",
       "    paths: {\n",
       "        'd3': 'https://cdnjs.cloudflare.com/ajax/libs/d3/3.5.16/d3.min',\n",
       "        'crossfilter': 'https://cdnjs.cloudflare.com/ajax/libs/crossfilter/1.3.12/crossfilter.min',\n",
       "        'dc': 'https://cdnjs.cloudflare.com/ajax/libs/dc/2.0.0-beta.32/dc',\n",
       "    },\n",
       "    shim: {\n",
       "        'crossfilter': {\n",
       "            deps: [],\n",
       "            exports: 'crossfilter'\n",
       "        }\n",
       "    }\n",
       "});"
      ],
      "text/plain": [
       "<IPython.core.display.Javascript object>"
      ]
     },
     "metadata": {},
     "output_type": "display_data"
    },
    {
     "data": {
      "text/html": [
       "<link href=\"https://cdnjs.cloudflare.com/ajax/libs/dc/1.7.5/dc.min.css\" rel=\"stylesheet\" type=\"text/css\">"
      ],
      "text/plain": [
       "<IPython.core.display.HTML object>"
      ]
     },
     "metadata": {},
     "output_type": "display_data"
    }
   ],
   "source": [
    "import os\n",
    "import pandas as pd\n",
    "os.chdir('..')\n",
    "from crossfilter import *\n",
    "%load_ext autoreload\n",
    "%autoreload 1\n",
    "%aimport crossfilter\n",
    "load_resources()\n",
    "airq = pd.read_csv(\"https://raw.githubusercontent.com/vincentarelbundock/Rdatasets/master/csv/datasets/airquality.csv\", \n",
    "                 index_col=0)\n"
   ]
  },
  {
   "cell_type": "code",
   "execution_count": 38,
   "metadata": {
    "collapsed": false
   },
   "outputs": [
    {
     "data": {
      "text/html": [
       "<div>\n",
       "<table border=\"1\" class=\"dataframe\">\n",
       "  <thead>\n",
       "    <tr style=\"text-align: right;\">\n",
       "      <th></th>\n",
       "      <th>Ozone</th>\n",
       "      <th>Solar.R</th>\n",
       "      <th>Wind</th>\n",
       "      <th>Temp</th>\n",
       "      <th>Month</th>\n",
       "      <th>Day</th>\n",
       "    </tr>\n",
       "  </thead>\n",
       "  <tbody>\n",
       "    <tr>\n",
       "      <th>1</th>\n",
       "      <td>41.0</td>\n",
       "      <td>190.0</td>\n",
       "      <td>7.4</td>\n",
       "      <td>67</td>\n",
       "      <td>5</td>\n",
       "      <td>1</td>\n",
       "    </tr>\n",
       "    <tr>\n",
       "      <th>2</th>\n",
       "      <td>36.0</td>\n",
       "      <td>118.0</td>\n",
       "      <td>8.0</td>\n",
       "      <td>72</td>\n",
       "      <td>5</td>\n",
       "      <td>2</td>\n",
       "    </tr>\n",
       "    <tr>\n",
       "      <th>3</th>\n",
       "      <td>12.0</td>\n",
       "      <td>149.0</td>\n",
       "      <td>12.6</td>\n",
       "      <td>74</td>\n",
       "      <td>5</td>\n",
       "      <td>3</td>\n",
       "    </tr>\n",
       "    <tr>\n",
       "      <th>4</th>\n",
       "      <td>18.0</td>\n",
       "      <td>313.0</td>\n",
       "      <td>11.5</td>\n",
       "      <td>62</td>\n",
       "      <td>5</td>\n",
       "      <td>4</td>\n",
       "    </tr>\n",
       "    <tr>\n",
       "      <th>5</th>\n",
       "      <td>NaN</td>\n",
       "      <td>NaN</td>\n",
       "      <td>14.3</td>\n",
       "      <td>56</td>\n",
       "      <td>5</td>\n",
       "      <td>5</td>\n",
       "    </tr>\n",
       "  </tbody>\n",
       "</table>\n",
       "</div>"
      ],
      "text/plain": [
       "   Ozone  Solar.R  Wind  Temp  Month  Day\n",
       "1   41.0    190.0   7.4    67      5    1\n",
       "2   36.0    118.0   8.0    72      5    2\n",
       "3   12.0    149.0  12.6    74      5    3\n",
       "4   18.0    313.0  11.5    62      5    4\n",
       "5    NaN      NaN  14.3    56      5    5"
      ]
     },
     "execution_count": 38,
     "metadata": {},
     "output_type": "execute_result"
    }
   ],
   "source": [
    "airq.head(5)"
   ]
  },
  {
   "cell_type": "markdown",
   "metadata": {
    "collapsed": false
   },
   "source": [
    "## Different types of graphs"
   ]
  },
  {
   "cell_type": "code",
   "execution_count": 39,
   "metadata": {
    "collapsed": false
   },
   "outputs": [
    {
     "data": {
      "application/javascript": [
       "\n",
       "    require(['d3', 'crossfilter', 'dc'], function(d3, crossfilter, dc) {\n",
       "        var pluck = function(prop) {\n",
       "            return function(d) { return d[prop]; };\n",
       "        };\n",
       "        var pluck2 = function(prop1, prop2, prop3) {\n",
       "            return function(d) { return [+d[prop1], +d[prop2], +d[prop3]]; };\n",
       "        };\n",
       "        \n",
       "        var crossfilterData = [{\"Ozone\":41.0,\"Solar.R\":190.0,\"Wind\":7.4,\"Temp\":67,\"Month\":5,\"Day\":1},{\"Ozone\":36.0,\"Solar.R\":118.0,\"Wind\":8.0,\"Temp\":72,\"Month\":5,\"Day\":2},{\"Ozone\":12.0,\"Solar.R\":149.0,\"Wind\":12.6,\"Temp\":74,\"Month\":5,\"Day\":3},{\"Ozone\":18.0,\"Solar.R\":313.0,\"Wind\":11.5,\"Temp\":62,\"Month\":5,\"Day\":4},{\"Ozone\":null,\"Solar.R\":null,\"Wind\":14.3,\"Temp\":56,\"Month\":5,\"Day\":5},{\"Ozone\":28.0,\"Solar.R\":null,\"Wind\":14.9,\"Temp\":66,\"Month\":5,\"Day\":6},{\"Ozone\":23.0,\"Solar.R\":299.0,\"Wind\":8.6,\"Temp\":65,\"Month\":5,\"Day\":7},{\"Ozone\":19.0,\"Solar.R\":99.0,\"Wind\":13.8,\"Temp\":59,\"Month\":5,\"Day\":8},{\"Ozone\":8.0,\"Solar.R\":19.0,\"Wind\":20.1,\"Temp\":61,\"Month\":5,\"Day\":9},{\"Ozone\":null,\"Solar.R\":194.0,\"Wind\":8.6,\"Temp\":69,\"Month\":5,\"Day\":10},{\"Ozone\":7.0,\"Solar.R\":null,\"Wind\":6.9,\"Temp\":74,\"Month\":5,\"Day\":11},{\"Ozone\":16.0,\"Solar.R\":256.0,\"Wind\":9.7,\"Temp\":69,\"Month\":5,\"Day\":12},{\"Ozone\":11.0,\"Solar.R\":290.0,\"Wind\":9.2,\"Temp\":66,\"Month\":5,\"Day\":13},{\"Ozone\":14.0,\"Solar.R\":274.0,\"Wind\":10.9,\"Temp\":68,\"Month\":5,\"Day\":14},{\"Ozone\":18.0,\"Solar.R\":65.0,\"Wind\":13.2,\"Temp\":58,\"Month\":5,\"Day\":15},{\"Ozone\":14.0,\"Solar.R\":334.0,\"Wind\":11.5,\"Temp\":64,\"Month\":5,\"Day\":16},{\"Ozone\":34.0,\"Solar.R\":307.0,\"Wind\":12.0,\"Temp\":66,\"Month\":5,\"Day\":17},{\"Ozone\":6.0,\"Solar.R\":78.0,\"Wind\":18.4,\"Temp\":57,\"Month\":5,\"Day\":18},{\"Ozone\":30.0,\"Solar.R\":322.0,\"Wind\":11.5,\"Temp\":68,\"Month\":5,\"Day\":19},{\"Ozone\":11.0,\"Solar.R\":44.0,\"Wind\":9.7,\"Temp\":62,\"Month\":5,\"Day\":20},{\"Ozone\":1.0,\"Solar.R\":8.0,\"Wind\":9.7,\"Temp\":59,\"Month\":5,\"Day\":21},{\"Ozone\":11.0,\"Solar.R\":320.0,\"Wind\":16.6,\"Temp\":73,\"Month\":5,\"Day\":22},{\"Ozone\":4.0,\"Solar.R\":25.0,\"Wind\":9.7,\"Temp\":61,\"Month\":5,\"Day\":23},{\"Ozone\":32.0,\"Solar.R\":92.0,\"Wind\":12.0,\"Temp\":61,\"Month\":5,\"Day\":24},{\"Ozone\":null,\"Solar.R\":66.0,\"Wind\":16.6,\"Temp\":57,\"Month\":5,\"Day\":25},{\"Ozone\":null,\"Solar.R\":266.0,\"Wind\":14.9,\"Temp\":58,\"Month\":5,\"Day\":26},{\"Ozone\":null,\"Solar.R\":null,\"Wind\":8.0,\"Temp\":57,\"Month\":5,\"Day\":27},{\"Ozone\":23.0,\"Solar.R\":13.0,\"Wind\":12.0,\"Temp\":67,\"Month\":5,\"Day\":28},{\"Ozone\":45.0,\"Solar.R\":252.0,\"Wind\":14.9,\"Temp\":81,\"Month\":5,\"Day\":29},{\"Ozone\":115.0,\"Solar.R\":223.0,\"Wind\":5.7,\"Temp\":79,\"Month\":5,\"Day\":30},{\"Ozone\":37.0,\"Solar.R\":279.0,\"Wind\":7.4,\"Temp\":76,\"Month\":5,\"Day\":31},{\"Ozone\":null,\"Solar.R\":286.0,\"Wind\":8.6,\"Temp\":78,\"Month\":6,\"Day\":1},{\"Ozone\":null,\"Solar.R\":287.0,\"Wind\":9.7,\"Temp\":74,\"Month\":6,\"Day\":2},{\"Ozone\":null,\"Solar.R\":242.0,\"Wind\":16.1,\"Temp\":67,\"Month\":6,\"Day\":3},{\"Ozone\":null,\"Solar.R\":186.0,\"Wind\":9.2,\"Temp\":84,\"Month\":6,\"Day\":4},{\"Ozone\":null,\"Solar.R\":220.0,\"Wind\":8.6,\"Temp\":85,\"Month\":6,\"Day\":5},{\"Ozone\":null,\"Solar.R\":264.0,\"Wind\":14.3,\"Temp\":79,\"Month\":6,\"Day\":6},{\"Ozone\":29.0,\"Solar.R\":127.0,\"Wind\":9.7,\"Temp\":82,\"Month\":6,\"Day\":7},{\"Ozone\":null,\"Solar.R\":273.0,\"Wind\":6.9,\"Temp\":87,\"Month\":6,\"Day\":8},{\"Ozone\":71.0,\"Solar.R\":291.0,\"Wind\":13.8,\"Temp\":90,\"Month\":6,\"Day\":9},{\"Ozone\":39.0,\"Solar.R\":323.0,\"Wind\":11.5,\"Temp\":87,\"Month\":6,\"Day\":10},{\"Ozone\":null,\"Solar.R\":259.0,\"Wind\":10.9,\"Temp\":93,\"Month\":6,\"Day\":11},{\"Ozone\":null,\"Solar.R\":250.0,\"Wind\":9.2,\"Temp\":92,\"Month\":6,\"Day\":12},{\"Ozone\":23.0,\"Solar.R\":148.0,\"Wind\":8.0,\"Temp\":82,\"Month\":6,\"Day\":13},{\"Ozone\":null,\"Solar.R\":332.0,\"Wind\":13.8,\"Temp\":80,\"Month\":6,\"Day\":14},{\"Ozone\":null,\"Solar.R\":322.0,\"Wind\":11.5,\"Temp\":79,\"Month\":6,\"Day\":15},{\"Ozone\":21.0,\"Solar.R\":191.0,\"Wind\":14.9,\"Temp\":77,\"Month\":6,\"Day\":16},{\"Ozone\":37.0,\"Solar.R\":284.0,\"Wind\":20.7,\"Temp\":72,\"Month\":6,\"Day\":17},{\"Ozone\":20.0,\"Solar.R\":37.0,\"Wind\":9.2,\"Temp\":65,\"Month\":6,\"Day\":18},{\"Ozone\":12.0,\"Solar.R\":120.0,\"Wind\":11.5,\"Temp\":73,\"Month\":6,\"Day\":19},{\"Ozone\":13.0,\"Solar.R\":137.0,\"Wind\":10.3,\"Temp\":76,\"Month\":6,\"Day\":20},{\"Ozone\":null,\"Solar.R\":150.0,\"Wind\":6.3,\"Temp\":77,\"Month\":6,\"Day\":21},{\"Ozone\":null,\"Solar.R\":59.0,\"Wind\":1.7,\"Temp\":76,\"Month\":6,\"Day\":22},{\"Ozone\":null,\"Solar.R\":91.0,\"Wind\":4.6,\"Temp\":76,\"Month\":6,\"Day\":23},{\"Ozone\":null,\"Solar.R\":250.0,\"Wind\":6.3,\"Temp\":76,\"Month\":6,\"Day\":24},{\"Ozone\":null,\"Solar.R\":135.0,\"Wind\":8.0,\"Temp\":75,\"Month\":6,\"Day\":25},{\"Ozone\":null,\"Solar.R\":127.0,\"Wind\":8.0,\"Temp\":78,\"Month\":6,\"Day\":26},{\"Ozone\":null,\"Solar.R\":47.0,\"Wind\":10.3,\"Temp\":73,\"Month\":6,\"Day\":27},{\"Ozone\":null,\"Solar.R\":98.0,\"Wind\":11.5,\"Temp\":80,\"Month\":6,\"Day\":28},{\"Ozone\":null,\"Solar.R\":31.0,\"Wind\":14.9,\"Temp\":77,\"Month\":6,\"Day\":29},{\"Ozone\":null,\"Solar.R\":138.0,\"Wind\":8.0,\"Temp\":83,\"Month\":6,\"Day\":30},{\"Ozone\":135.0,\"Solar.R\":269.0,\"Wind\":4.1,\"Temp\":84,\"Month\":7,\"Day\":1},{\"Ozone\":49.0,\"Solar.R\":248.0,\"Wind\":9.2,\"Temp\":85,\"Month\":7,\"Day\":2},{\"Ozone\":32.0,\"Solar.R\":236.0,\"Wind\":9.2,\"Temp\":81,\"Month\":7,\"Day\":3},{\"Ozone\":null,\"Solar.R\":101.0,\"Wind\":10.9,\"Temp\":84,\"Month\":7,\"Day\":4},{\"Ozone\":64.0,\"Solar.R\":175.0,\"Wind\":4.6,\"Temp\":83,\"Month\":7,\"Day\":5},{\"Ozone\":40.0,\"Solar.R\":314.0,\"Wind\":10.9,\"Temp\":83,\"Month\":7,\"Day\":6},{\"Ozone\":77.0,\"Solar.R\":276.0,\"Wind\":5.1,\"Temp\":88,\"Month\":7,\"Day\":7},{\"Ozone\":97.0,\"Solar.R\":267.0,\"Wind\":6.3,\"Temp\":92,\"Month\":7,\"Day\":8},{\"Ozone\":97.0,\"Solar.R\":272.0,\"Wind\":5.7,\"Temp\":92,\"Month\":7,\"Day\":9},{\"Ozone\":85.0,\"Solar.R\":175.0,\"Wind\":7.4,\"Temp\":89,\"Month\":7,\"Day\":10},{\"Ozone\":null,\"Solar.R\":139.0,\"Wind\":8.6,\"Temp\":82,\"Month\":7,\"Day\":11},{\"Ozone\":10.0,\"Solar.R\":264.0,\"Wind\":14.3,\"Temp\":73,\"Month\":7,\"Day\":12},{\"Ozone\":27.0,\"Solar.R\":175.0,\"Wind\":14.9,\"Temp\":81,\"Month\":7,\"Day\":13},{\"Ozone\":null,\"Solar.R\":291.0,\"Wind\":14.9,\"Temp\":91,\"Month\":7,\"Day\":14},{\"Ozone\":7.0,\"Solar.R\":48.0,\"Wind\":14.3,\"Temp\":80,\"Month\":7,\"Day\":15},{\"Ozone\":48.0,\"Solar.R\":260.0,\"Wind\":6.9,\"Temp\":81,\"Month\":7,\"Day\":16},{\"Ozone\":35.0,\"Solar.R\":274.0,\"Wind\":10.3,\"Temp\":82,\"Month\":7,\"Day\":17},{\"Ozone\":61.0,\"Solar.R\":285.0,\"Wind\":6.3,\"Temp\":84,\"Month\":7,\"Day\":18},{\"Ozone\":79.0,\"Solar.R\":187.0,\"Wind\":5.1,\"Temp\":87,\"Month\":7,\"Day\":19},{\"Ozone\":63.0,\"Solar.R\":220.0,\"Wind\":11.5,\"Temp\":85,\"Month\":7,\"Day\":20},{\"Ozone\":16.0,\"Solar.R\":7.0,\"Wind\":6.9,\"Temp\":74,\"Month\":7,\"Day\":21},{\"Ozone\":null,\"Solar.R\":258.0,\"Wind\":9.7,\"Temp\":81,\"Month\":7,\"Day\":22},{\"Ozone\":null,\"Solar.R\":295.0,\"Wind\":11.5,\"Temp\":82,\"Month\":7,\"Day\":23},{\"Ozone\":80.0,\"Solar.R\":294.0,\"Wind\":8.6,\"Temp\":86,\"Month\":7,\"Day\":24},{\"Ozone\":108.0,\"Solar.R\":223.0,\"Wind\":8.0,\"Temp\":85,\"Month\":7,\"Day\":25},{\"Ozone\":20.0,\"Solar.R\":81.0,\"Wind\":8.6,\"Temp\":82,\"Month\":7,\"Day\":26},{\"Ozone\":52.0,\"Solar.R\":82.0,\"Wind\":12.0,\"Temp\":86,\"Month\":7,\"Day\":27},{\"Ozone\":82.0,\"Solar.R\":213.0,\"Wind\":7.4,\"Temp\":88,\"Month\":7,\"Day\":28},{\"Ozone\":50.0,\"Solar.R\":275.0,\"Wind\":7.4,\"Temp\":86,\"Month\":7,\"Day\":29},{\"Ozone\":64.0,\"Solar.R\":253.0,\"Wind\":7.4,\"Temp\":83,\"Month\":7,\"Day\":30},{\"Ozone\":59.0,\"Solar.R\":254.0,\"Wind\":9.2,\"Temp\":81,\"Month\":7,\"Day\":31},{\"Ozone\":39.0,\"Solar.R\":83.0,\"Wind\":6.9,\"Temp\":81,\"Month\":8,\"Day\":1},{\"Ozone\":9.0,\"Solar.R\":24.0,\"Wind\":13.8,\"Temp\":81,\"Month\":8,\"Day\":2},{\"Ozone\":16.0,\"Solar.R\":77.0,\"Wind\":7.4,\"Temp\":82,\"Month\":8,\"Day\":3},{\"Ozone\":78.0,\"Solar.R\":null,\"Wind\":6.9,\"Temp\":86,\"Month\":8,\"Day\":4},{\"Ozone\":35.0,\"Solar.R\":null,\"Wind\":7.4,\"Temp\":85,\"Month\":8,\"Day\":5},{\"Ozone\":66.0,\"Solar.R\":null,\"Wind\":4.6,\"Temp\":87,\"Month\":8,\"Day\":6},{\"Ozone\":122.0,\"Solar.R\":255.0,\"Wind\":4.0,\"Temp\":89,\"Month\":8,\"Day\":7},{\"Ozone\":89.0,\"Solar.R\":229.0,\"Wind\":10.3,\"Temp\":90,\"Month\":8,\"Day\":8},{\"Ozone\":110.0,\"Solar.R\":207.0,\"Wind\":8.0,\"Temp\":90,\"Month\":8,\"Day\":9},{\"Ozone\":null,\"Solar.R\":222.0,\"Wind\":8.6,\"Temp\":92,\"Month\":8,\"Day\":10},{\"Ozone\":null,\"Solar.R\":137.0,\"Wind\":11.5,\"Temp\":86,\"Month\":8,\"Day\":11},{\"Ozone\":44.0,\"Solar.R\":192.0,\"Wind\":11.5,\"Temp\":86,\"Month\":8,\"Day\":12},{\"Ozone\":28.0,\"Solar.R\":273.0,\"Wind\":11.5,\"Temp\":82,\"Month\":8,\"Day\":13},{\"Ozone\":65.0,\"Solar.R\":157.0,\"Wind\":9.7,\"Temp\":80,\"Month\":8,\"Day\":14},{\"Ozone\":null,\"Solar.R\":64.0,\"Wind\":11.5,\"Temp\":79,\"Month\":8,\"Day\":15},{\"Ozone\":22.0,\"Solar.R\":71.0,\"Wind\":10.3,\"Temp\":77,\"Month\":8,\"Day\":16},{\"Ozone\":59.0,\"Solar.R\":51.0,\"Wind\":6.3,\"Temp\":79,\"Month\":8,\"Day\":17},{\"Ozone\":23.0,\"Solar.R\":115.0,\"Wind\":7.4,\"Temp\":76,\"Month\":8,\"Day\":18},{\"Ozone\":31.0,\"Solar.R\":244.0,\"Wind\":10.9,\"Temp\":78,\"Month\":8,\"Day\":19},{\"Ozone\":44.0,\"Solar.R\":190.0,\"Wind\":10.3,\"Temp\":78,\"Month\":8,\"Day\":20},{\"Ozone\":21.0,\"Solar.R\":259.0,\"Wind\":15.5,\"Temp\":77,\"Month\":8,\"Day\":21},{\"Ozone\":9.0,\"Solar.R\":36.0,\"Wind\":14.3,\"Temp\":72,\"Month\":8,\"Day\":22},{\"Ozone\":null,\"Solar.R\":255.0,\"Wind\":12.6,\"Temp\":75,\"Month\":8,\"Day\":23},{\"Ozone\":45.0,\"Solar.R\":212.0,\"Wind\":9.7,\"Temp\":79,\"Month\":8,\"Day\":24},{\"Ozone\":168.0,\"Solar.R\":238.0,\"Wind\":3.4,\"Temp\":81,\"Month\":8,\"Day\":25},{\"Ozone\":73.0,\"Solar.R\":215.0,\"Wind\":8.0,\"Temp\":86,\"Month\":8,\"Day\":26},{\"Ozone\":null,\"Solar.R\":153.0,\"Wind\":5.7,\"Temp\":88,\"Month\":8,\"Day\":27},{\"Ozone\":76.0,\"Solar.R\":203.0,\"Wind\":9.7,\"Temp\":97,\"Month\":8,\"Day\":28},{\"Ozone\":118.0,\"Solar.R\":225.0,\"Wind\":2.3,\"Temp\":94,\"Month\":8,\"Day\":29},{\"Ozone\":84.0,\"Solar.R\":237.0,\"Wind\":6.3,\"Temp\":96,\"Month\":8,\"Day\":30},{\"Ozone\":85.0,\"Solar.R\":188.0,\"Wind\":6.3,\"Temp\":94,\"Month\":8,\"Day\":31},{\"Ozone\":96.0,\"Solar.R\":167.0,\"Wind\":6.9,\"Temp\":91,\"Month\":9,\"Day\":1},{\"Ozone\":78.0,\"Solar.R\":197.0,\"Wind\":5.1,\"Temp\":92,\"Month\":9,\"Day\":2},{\"Ozone\":73.0,\"Solar.R\":183.0,\"Wind\":2.8,\"Temp\":93,\"Month\":9,\"Day\":3},{\"Ozone\":91.0,\"Solar.R\":189.0,\"Wind\":4.6,\"Temp\":93,\"Month\":9,\"Day\":4},{\"Ozone\":47.0,\"Solar.R\":95.0,\"Wind\":7.4,\"Temp\":87,\"Month\":9,\"Day\":5},{\"Ozone\":32.0,\"Solar.R\":92.0,\"Wind\":15.5,\"Temp\":84,\"Month\":9,\"Day\":6},{\"Ozone\":20.0,\"Solar.R\":252.0,\"Wind\":10.9,\"Temp\":80,\"Month\":9,\"Day\":7},{\"Ozone\":23.0,\"Solar.R\":220.0,\"Wind\":10.3,\"Temp\":78,\"Month\":9,\"Day\":8},{\"Ozone\":21.0,\"Solar.R\":230.0,\"Wind\":10.9,\"Temp\":75,\"Month\":9,\"Day\":9},{\"Ozone\":24.0,\"Solar.R\":259.0,\"Wind\":9.7,\"Temp\":73,\"Month\":9,\"Day\":10},{\"Ozone\":44.0,\"Solar.R\":236.0,\"Wind\":14.9,\"Temp\":81,\"Month\":9,\"Day\":11},{\"Ozone\":21.0,\"Solar.R\":259.0,\"Wind\":15.5,\"Temp\":76,\"Month\":9,\"Day\":12},{\"Ozone\":28.0,\"Solar.R\":238.0,\"Wind\":6.3,\"Temp\":77,\"Month\":9,\"Day\":13},{\"Ozone\":9.0,\"Solar.R\":24.0,\"Wind\":10.9,\"Temp\":71,\"Month\":9,\"Day\":14},{\"Ozone\":13.0,\"Solar.R\":112.0,\"Wind\":11.5,\"Temp\":71,\"Month\":9,\"Day\":15},{\"Ozone\":46.0,\"Solar.R\":237.0,\"Wind\":6.9,\"Temp\":78,\"Month\":9,\"Day\":16},{\"Ozone\":18.0,\"Solar.R\":224.0,\"Wind\":13.8,\"Temp\":67,\"Month\":9,\"Day\":17},{\"Ozone\":13.0,\"Solar.R\":27.0,\"Wind\":10.3,\"Temp\":76,\"Month\":9,\"Day\":18},{\"Ozone\":24.0,\"Solar.R\":238.0,\"Wind\":10.3,\"Temp\":68,\"Month\":9,\"Day\":19},{\"Ozone\":16.0,\"Solar.R\":201.0,\"Wind\":8.0,\"Temp\":82,\"Month\":9,\"Day\":20},{\"Ozone\":13.0,\"Solar.R\":238.0,\"Wind\":12.6,\"Temp\":64,\"Month\":9,\"Day\":21},{\"Ozone\":23.0,\"Solar.R\":14.0,\"Wind\":9.2,\"Temp\":71,\"Month\":9,\"Day\":22},{\"Ozone\":36.0,\"Solar.R\":139.0,\"Wind\":10.3,\"Temp\":81,\"Month\":9,\"Day\":23},{\"Ozone\":7.0,\"Solar.R\":49.0,\"Wind\":10.3,\"Temp\":69,\"Month\":9,\"Day\":24},{\"Ozone\":14.0,\"Solar.R\":20.0,\"Wind\":16.6,\"Temp\":63,\"Month\":9,\"Day\":25},{\"Ozone\":30.0,\"Solar.R\":193.0,\"Wind\":6.9,\"Temp\":70,\"Month\":9,\"Day\":26},{\"Ozone\":null,\"Solar.R\":145.0,\"Wind\":13.2,\"Temp\":77,\"Month\":9,\"Day\":27},{\"Ozone\":14.0,\"Solar.R\":191.0,\"Wind\":14.3,\"Temp\":75,\"Month\":9,\"Day\":28},{\"Ozone\":18.0,\"Solar.R\":131.0,\"Wind\":8.0,\"Temp\":76,\"Month\":9,\"Day\":29},{\"Ozone\":20.0,\"Solar.R\":223.0,\"Wind\":11.5,\"Temp\":68,\"Month\":9,\"Day\":30}];\n",
       "        var cf = crossfilter(crossfilterData);\n",
       "        var all = cf.groupAll();\n",
       "        element.append('<div id=\"dc-343299e1-c5c2-4087-80f2-b14d76fba36e-count\"><strong class=\"filter-count\">?</strong> selected ' +\n",
       "                       'out of <strong class=\"total-count\">?</strong> records</div>' +\n",
       "                       '<div style=\"clear: both;\"></div>');\n",
       "        var count = dc.dataCount(\"#dc-343299e1-c5c2-4087-80f2-b14d76fba36e-count\");\n",
       "        count.dimension(cf).group(all);\n",
       "        var prop = \"Ozone\";\n",
       "        var propId = prop.replace(\".\", \"_\") + \"_\" + \"Count\";\n",
       "        var chartId = \"dc-343299e1-c5c2-4087-80f2-b14d76fba36e-chart-\" + propId;\n",
       "        element.append('<div style=\"float: left;\" id=\"' + chartId + '\"><strong>' + prop + '</strong>' +\n",
       "                       '<div style=\"clear: both;\"></div></div>');\n",
       "        var dim = cf.dimension(pluck(prop));\n",
       "        var group = dim.group().reduceCount()\n",
       "        var min = dim.bottom(1)[0][prop];\n",
       "        var max = dim.top(1)[0][prop] + 1;\n",
       "        var chart = dc.lineChart(\"#\" + chartId);\n",
       "        chart.dimension(dim).group(group)\n",
       "            .x(d3.time.scale().domain([min, max]))\n",
       "            .elasticY(true)\n",
       "            .elasticX(true)\n",
       "            .renderArea(true)\n",
       "            .width(400).height(200);\n",
       "        \n",
       "        var prop = \"Solar.R\";\n",
       "        var propId = prop.replace(\".\", \"_\") + \"_\" + \"Count\";\n",
       "        var chartId = \"dc-343299e1-c5c2-4087-80f2-b14d76fba36e-chart-\" + propId;\n",
       "        element.append('<div style=\"float: left;\" id=\"' + chartId + '\"><strong>' + prop + '</strong>' +\n",
       "                       '<div style=\"clear: both;\"></div></div>');\n",
       "        var dim = cf.dimension(pluck(prop));\n",
       "        var group = dim.group().reduceCount()\n",
       "        var min = dim.bottom(1)[0][prop];\n",
       "        var max = dim.top(1)[0][prop] + 1;\n",
       "        var chart = dc.barChart(\"#\" + chartId);\n",
       "        chart.dimension(dim).group(group)\n",
       "            .x(d3.scale.linear().domain([min, max]))\n",
       "            .xUnits(dc.units.integers)\n",
       "            .elasticY(true)\n",
       "            .width(400).height(200);\n",
       "        \n",
       "        var prop = \"Month\";\n",
       "        var propId = prop.replace(\".\", \"_\")  + \"_\" + \"Count\";\n",
       "        var chartId = \"dc-343299e1-c5c2-4087-80f2-b14d76fba36e-chart-\" + propId;\n",
       "        element.append('<div style=\"float: left;\" id=\"' + chartId + '\"><strong>' + prop + '</strong>' +\n",
       "                       '<div style=\"clear: both;\"></div></div>');\n",
       "        var dim = cf.dimension(pluck(prop));\n",
       "        var group = dim.group().reduceCount()\n",
       "        var min = dim.bottom(1)[0][prop];\n",
       "        var max = dim.top(1)[0][prop] + 1;\n",
       "        var chart = dc.rowChart(\"#\" + chartId);\n",
       "        chart.dimension(dim).group(group).width(400).height(200).elasticX(true);\n",
       "        \n",
       "        var prop = \"Temp\";\n",
       "        var propId = prop.replace(\".\", \"_\") + \"_\" + \"Count\";\n",
       "        var chartId = \"dc-343299e1-c5c2-4087-80f2-b14d76fba36e-chart-\" + propId;\n",
       "        element.append('<div style=\"float: left;\" id=\"' + chartId + '\"><strong>' + prop + '</strong>' +\n",
       "                       '<div style=\"clear: both;\"></div></div>');\n",
       "        var dim = cf.dimension(pluck(prop));\n",
       "        var group = dim.group().reduceCount()\n",
       "        var min = dim.bottom(1)[0][prop];\n",
       "        var max = dim.top(1)[0][prop] + 1;\n",
       "        var chart = dc.pieChart(\"#\" + chartId);\n",
       "        chart.dimension(dim).group(group);\n",
       "        \n",
       "        dc.renderAll();\n",
       "        dc.redrawAll();\n",
       "    });"
      ],
      "text/plain": [
       "<crossfilter.Crossfilter instance at 0x7ff6885b0c20>"
      ]
     },
     "execution_count": 39,
     "metadata": {},
     "output_type": "execute_result"
    }
   ],
   "source": [
    "# Crossfilter(dataframe, list of graph types, list of group dimension, aggregator, dimension for aggregator, list of sizes)\n",
    "\n",
    "Crossfilter(airq,\n",
    "            ['LineChart', 'BarChart', 'RowChart', 'PieChart'],\n",
    "            ['Ozone', 'Solar.R', 'Month', 'Temp'],\n",
    "            ['Count', 'Count', 'Count', 'Count'],\n",
    "            ['None', 'None', 'None', 'None'],\n",
    "            [[400, 200], [400, 200], [400, 200], [400, 200]]\n",
    ")"
   ]
  },
  {
   "cell_type": "markdown",
   "metadata": {
    "collapsed": false
   },
   "source": [
    "# Different types of aggregators"
   ]
  },
  {
   "cell_type": "code",
   "execution_count": 40,
   "metadata": {
    "collapsed": false
   },
   "outputs": [
    {
     "data": {
      "application/javascript": [
       "\n",
       "    require(['d3', 'crossfilter', 'dc'], function(d3, crossfilter, dc) {\n",
       "        var pluck = function(prop) {\n",
       "            return function(d) { return d[prop]; };\n",
       "        };\n",
       "        var pluck2 = function(prop1, prop2, prop3) {\n",
       "            return function(d) { return [+d[prop1], +d[prop2], +d[prop3]]; };\n",
       "        };\n",
       "        \n",
       "        var crossfilterData = [{\"Ozone\":41.0,\"Solar.R\":190.0,\"Wind\":7.4,\"Temp\":67,\"Month\":5,\"Day\":1},{\"Ozone\":36.0,\"Solar.R\":118.0,\"Wind\":8.0,\"Temp\":72,\"Month\":5,\"Day\":2},{\"Ozone\":12.0,\"Solar.R\":149.0,\"Wind\":12.6,\"Temp\":74,\"Month\":5,\"Day\":3},{\"Ozone\":18.0,\"Solar.R\":313.0,\"Wind\":11.5,\"Temp\":62,\"Month\":5,\"Day\":4},{\"Ozone\":null,\"Solar.R\":null,\"Wind\":14.3,\"Temp\":56,\"Month\":5,\"Day\":5},{\"Ozone\":28.0,\"Solar.R\":null,\"Wind\":14.9,\"Temp\":66,\"Month\":5,\"Day\":6},{\"Ozone\":23.0,\"Solar.R\":299.0,\"Wind\":8.6,\"Temp\":65,\"Month\":5,\"Day\":7},{\"Ozone\":19.0,\"Solar.R\":99.0,\"Wind\":13.8,\"Temp\":59,\"Month\":5,\"Day\":8},{\"Ozone\":8.0,\"Solar.R\":19.0,\"Wind\":20.1,\"Temp\":61,\"Month\":5,\"Day\":9},{\"Ozone\":null,\"Solar.R\":194.0,\"Wind\":8.6,\"Temp\":69,\"Month\":5,\"Day\":10},{\"Ozone\":7.0,\"Solar.R\":null,\"Wind\":6.9,\"Temp\":74,\"Month\":5,\"Day\":11},{\"Ozone\":16.0,\"Solar.R\":256.0,\"Wind\":9.7,\"Temp\":69,\"Month\":5,\"Day\":12},{\"Ozone\":11.0,\"Solar.R\":290.0,\"Wind\":9.2,\"Temp\":66,\"Month\":5,\"Day\":13},{\"Ozone\":14.0,\"Solar.R\":274.0,\"Wind\":10.9,\"Temp\":68,\"Month\":5,\"Day\":14},{\"Ozone\":18.0,\"Solar.R\":65.0,\"Wind\":13.2,\"Temp\":58,\"Month\":5,\"Day\":15},{\"Ozone\":14.0,\"Solar.R\":334.0,\"Wind\":11.5,\"Temp\":64,\"Month\":5,\"Day\":16},{\"Ozone\":34.0,\"Solar.R\":307.0,\"Wind\":12.0,\"Temp\":66,\"Month\":5,\"Day\":17},{\"Ozone\":6.0,\"Solar.R\":78.0,\"Wind\":18.4,\"Temp\":57,\"Month\":5,\"Day\":18},{\"Ozone\":30.0,\"Solar.R\":322.0,\"Wind\":11.5,\"Temp\":68,\"Month\":5,\"Day\":19},{\"Ozone\":11.0,\"Solar.R\":44.0,\"Wind\":9.7,\"Temp\":62,\"Month\":5,\"Day\":20},{\"Ozone\":1.0,\"Solar.R\":8.0,\"Wind\":9.7,\"Temp\":59,\"Month\":5,\"Day\":21},{\"Ozone\":11.0,\"Solar.R\":320.0,\"Wind\":16.6,\"Temp\":73,\"Month\":5,\"Day\":22},{\"Ozone\":4.0,\"Solar.R\":25.0,\"Wind\":9.7,\"Temp\":61,\"Month\":5,\"Day\":23},{\"Ozone\":32.0,\"Solar.R\":92.0,\"Wind\":12.0,\"Temp\":61,\"Month\":5,\"Day\":24},{\"Ozone\":null,\"Solar.R\":66.0,\"Wind\":16.6,\"Temp\":57,\"Month\":5,\"Day\":25},{\"Ozone\":null,\"Solar.R\":266.0,\"Wind\":14.9,\"Temp\":58,\"Month\":5,\"Day\":26},{\"Ozone\":null,\"Solar.R\":null,\"Wind\":8.0,\"Temp\":57,\"Month\":5,\"Day\":27},{\"Ozone\":23.0,\"Solar.R\":13.0,\"Wind\":12.0,\"Temp\":67,\"Month\":5,\"Day\":28},{\"Ozone\":45.0,\"Solar.R\":252.0,\"Wind\":14.9,\"Temp\":81,\"Month\":5,\"Day\":29},{\"Ozone\":115.0,\"Solar.R\":223.0,\"Wind\":5.7,\"Temp\":79,\"Month\":5,\"Day\":30},{\"Ozone\":37.0,\"Solar.R\":279.0,\"Wind\":7.4,\"Temp\":76,\"Month\":5,\"Day\":31},{\"Ozone\":null,\"Solar.R\":286.0,\"Wind\":8.6,\"Temp\":78,\"Month\":6,\"Day\":1},{\"Ozone\":null,\"Solar.R\":287.0,\"Wind\":9.7,\"Temp\":74,\"Month\":6,\"Day\":2},{\"Ozone\":null,\"Solar.R\":242.0,\"Wind\":16.1,\"Temp\":67,\"Month\":6,\"Day\":3},{\"Ozone\":null,\"Solar.R\":186.0,\"Wind\":9.2,\"Temp\":84,\"Month\":6,\"Day\":4},{\"Ozone\":null,\"Solar.R\":220.0,\"Wind\":8.6,\"Temp\":85,\"Month\":6,\"Day\":5},{\"Ozone\":null,\"Solar.R\":264.0,\"Wind\":14.3,\"Temp\":79,\"Month\":6,\"Day\":6},{\"Ozone\":29.0,\"Solar.R\":127.0,\"Wind\":9.7,\"Temp\":82,\"Month\":6,\"Day\":7},{\"Ozone\":null,\"Solar.R\":273.0,\"Wind\":6.9,\"Temp\":87,\"Month\":6,\"Day\":8},{\"Ozone\":71.0,\"Solar.R\":291.0,\"Wind\":13.8,\"Temp\":90,\"Month\":6,\"Day\":9},{\"Ozone\":39.0,\"Solar.R\":323.0,\"Wind\":11.5,\"Temp\":87,\"Month\":6,\"Day\":10},{\"Ozone\":null,\"Solar.R\":259.0,\"Wind\":10.9,\"Temp\":93,\"Month\":6,\"Day\":11},{\"Ozone\":null,\"Solar.R\":250.0,\"Wind\":9.2,\"Temp\":92,\"Month\":6,\"Day\":12},{\"Ozone\":23.0,\"Solar.R\":148.0,\"Wind\":8.0,\"Temp\":82,\"Month\":6,\"Day\":13},{\"Ozone\":null,\"Solar.R\":332.0,\"Wind\":13.8,\"Temp\":80,\"Month\":6,\"Day\":14},{\"Ozone\":null,\"Solar.R\":322.0,\"Wind\":11.5,\"Temp\":79,\"Month\":6,\"Day\":15},{\"Ozone\":21.0,\"Solar.R\":191.0,\"Wind\":14.9,\"Temp\":77,\"Month\":6,\"Day\":16},{\"Ozone\":37.0,\"Solar.R\":284.0,\"Wind\":20.7,\"Temp\":72,\"Month\":6,\"Day\":17},{\"Ozone\":20.0,\"Solar.R\":37.0,\"Wind\":9.2,\"Temp\":65,\"Month\":6,\"Day\":18},{\"Ozone\":12.0,\"Solar.R\":120.0,\"Wind\":11.5,\"Temp\":73,\"Month\":6,\"Day\":19},{\"Ozone\":13.0,\"Solar.R\":137.0,\"Wind\":10.3,\"Temp\":76,\"Month\":6,\"Day\":20},{\"Ozone\":null,\"Solar.R\":150.0,\"Wind\":6.3,\"Temp\":77,\"Month\":6,\"Day\":21},{\"Ozone\":null,\"Solar.R\":59.0,\"Wind\":1.7,\"Temp\":76,\"Month\":6,\"Day\":22},{\"Ozone\":null,\"Solar.R\":91.0,\"Wind\":4.6,\"Temp\":76,\"Month\":6,\"Day\":23},{\"Ozone\":null,\"Solar.R\":250.0,\"Wind\":6.3,\"Temp\":76,\"Month\":6,\"Day\":24},{\"Ozone\":null,\"Solar.R\":135.0,\"Wind\":8.0,\"Temp\":75,\"Month\":6,\"Day\":25},{\"Ozone\":null,\"Solar.R\":127.0,\"Wind\":8.0,\"Temp\":78,\"Month\":6,\"Day\":26},{\"Ozone\":null,\"Solar.R\":47.0,\"Wind\":10.3,\"Temp\":73,\"Month\":6,\"Day\":27},{\"Ozone\":null,\"Solar.R\":98.0,\"Wind\":11.5,\"Temp\":80,\"Month\":6,\"Day\":28},{\"Ozone\":null,\"Solar.R\":31.0,\"Wind\":14.9,\"Temp\":77,\"Month\":6,\"Day\":29},{\"Ozone\":null,\"Solar.R\":138.0,\"Wind\":8.0,\"Temp\":83,\"Month\":6,\"Day\":30},{\"Ozone\":135.0,\"Solar.R\":269.0,\"Wind\":4.1,\"Temp\":84,\"Month\":7,\"Day\":1},{\"Ozone\":49.0,\"Solar.R\":248.0,\"Wind\":9.2,\"Temp\":85,\"Month\":7,\"Day\":2},{\"Ozone\":32.0,\"Solar.R\":236.0,\"Wind\":9.2,\"Temp\":81,\"Month\":7,\"Day\":3},{\"Ozone\":null,\"Solar.R\":101.0,\"Wind\":10.9,\"Temp\":84,\"Month\":7,\"Day\":4},{\"Ozone\":64.0,\"Solar.R\":175.0,\"Wind\":4.6,\"Temp\":83,\"Month\":7,\"Day\":5},{\"Ozone\":40.0,\"Solar.R\":314.0,\"Wind\":10.9,\"Temp\":83,\"Month\":7,\"Day\":6},{\"Ozone\":77.0,\"Solar.R\":276.0,\"Wind\":5.1,\"Temp\":88,\"Month\":7,\"Day\":7},{\"Ozone\":97.0,\"Solar.R\":267.0,\"Wind\":6.3,\"Temp\":92,\"Month\":7,\"Day\":8},{\"Ozone\":97.0,\"Solar.R\":272.0,\"Wind\":5.7,\"Temp\":92,\"Month\":7,\"Day\":9},{\"Ozone\":85.0,\"Solar.R\":175.0,\"Wind\":7.4,\"Temp\":89,\"Month\":7,\"Day\":10},{\"Ozone\":null,\"Solar.R\":139.0,\"Wind\":8.6,\"Temp\":82,\"Month\":7,\"Day\":11},{\"Ozone\":10.0,\"Solar.R\":264.0,\"Wind\":14.3,\"Temp\":73,\"Month\":7,\"Day\":12},{\"Ozone\":27.0,\"Solar.R\":175.0,\"Wind\":14.9,\"Temp\":81,\"Month\":7,\"Day\":13},{\"Ozone\":null,\"Solar.R\":291.0,\"Wind\":14.9,\"Temp\":91,\"Month\":7,\"Day\":14},{\"Ozone\":7.0,\"Solar.R\":48.0,\"Wind\":14.3,\"Temp\":80,\"Month\":7,\"Day\":15},{\"Ozone\":48.0,\"Solar.R\":260.0,\"Wind\":6.9,\"Temp\":81,\"Month\":7,\"Day\":16},{\"Ozone\":35.0,\"Solar.R\":274.0,\"Wind\":10.3,\"Temp\":82,\"Month\":7,\"Day\":17},{\"Ozone\":61.0,\"Solar.R\":285.0,\"Wind\":6.3,\"Temp\":84,\"Month\":7,\"Day\":18},{\"Ozone\":79.0,\"Solar.R\":187.0,\"Wind\":5.1,\"Temp\":87,\"Month\":7,\"Day\":19},{\"Ozone\":63.0,\"Solar.R\":220.0,\"Wind\":11.5,\"Temp\":85,\"Month\":7,\"Day\":20},{\"Ozone\":16.0,\"Solar.R\":7.0,\"Wind\":6.9,\"Temp\":74,\"Month\":7,\"Day\":21},{\"Ozone\":null,\"Solar.R\":258.0,\"Wind\":9.7,\"Temp\":81,\"Month\":7,\"Day\":22},{\"Ozone\":null,\"Solar.R\":295.0,\"Wind\":11.5,\"Temp\":82,\"Month\":7,\"Day\":23},{\"Ozone\":80.0,\"Solar.R\":294.0,\"Wind\":8.6,\"Temp\":86,\"Month\":7,\"Day\":24},{\"Ozone\":108.0,\"Solar.R\":223.0,\"Wind\":8.0,\"Temp\":85,\"Month\":7,\"Day\":25},{\"Ozone\":20.0,\"Solar.R\":81.0,\"Wind\":8.6,\"Temp\":82,\"Month\":7,\"Day\":26},{\"Ozone\":52.0,\"Solar.R\":82.0,\"Wind\":12.0,\"Temp\":86,\"Month\":7,\"Day\":27},{\"Ozone\":82.0,\"Solar.R\":213.0,\"Wind\":7.4,\"Temp\":88,\"Month\":7,\"Day\":28},{\"Ozone\":50.0,\"Solar.R\":275.0,\"Wind\":7.4,\"Temp\":86,\"Month\":7,\"Day\":29},{\"Ozone\":64.0,\"Solar.R\":253.0,\"Wind\":7.4,\"Temp\":83,\"Month\":7,\"Day\":30},{\"Ozone\":59.0,\"Solar.R\":254.0,\"Wind\":9.2,\"Temp\":81,\"Month\":7,\"Day\":31},{\"Ozone\":39.0,\"Solar.R\":83.0,\"Wind\":6.9,\"Temp\":81,\"Month\":8,\"Day\":1},{\"Ozone\":9.0,\"Solar.R\":24.0,\"Wind\":13.8,\"Temp\":81,\"Month\":8,\"Day\":2},{\"Ozone\":16.0,\"Solar.R\":77.0,\"Wind\":7.4,\"Temp\":82,\"Month\":8,\"Day\":3},{\"Ozone\":78.0,\"Solar.R\":null,\"Wind\":6.9,\"Temp\":86,\"Month\":8,\"Day\":4},{\"Ozone\":35.0,\"Solar.R\":null,\"Wind\":7.4,\"Temp\":85,\"Month\":8,\"Day\":5},{\"Ozone\":66.0,\"Solar.R\":null,\"Wind\":4.6,\"Temp\":87,\"Month\":8,\"Day\":6},{\"Ozone\":122.0,\"Solar.R\":255.0,\"Wind\":4.0,\"Temp\":89,\"Month\":8,\"Day\":7},{\"Ozone\":89.0,\"Solar.R\":229.0,\"Wind\":10.3,\"Temp\":90,\"Month\":8,\"Day\":8},{\"Ozone\":110.0,\"Solar.R\":207.0,\"Wind\":8.0,\"Temp\":90,\"Month\":8,\"Day\":9},{\"Ozone\":null,\"Solar.R\":222.0,\"Wind\":8.6,\"Temp\":92,\"Month\":8,\"Day\":10},{\"Ozone\":null,\"Solar.R\":137.0,\"Wind\":11.5,\"Temp\":86,\"Month\":8,\"Day\":11},{\"Ozone\":44.0,\"Solar.R\":192.0,\"Wind\":11.5,\"Temp\":86,\"Month\":8,\"Day\":12},{\"Ozone\":28.0,\"Solar.R\":273.0,\"Wind\":11.5,\"Temp\":82,\"Month\":8,\"Day\":13},{\"Ozone\":65.0,\"Solar.R\":157.0,\"Wind\":9.7,\"Temp\":80,\"Month\":8,\"Day\":14},{\"Ozone\":null,\"Solar.R\":64.0,\"Wind\":11.5,\"Temp\":79,\"Month\":8,\"Day\":15},{\"Ozone\":22.0,\"Solar.R\":71.0,\"Wind\":10.3,\"Temp\":77,\"Month\":8,\"Day\":16},{\"Ozone\":59.0,\"Solar.R\":51.0,\"Wind\":6.3,\"Temp\":79,\"Month\":8,\"Day\":17},{\"Ozone\":23.0,\"Solar.R\":115.0,\"Wind\":7.4,\"Temp\":76,\"Month\":8,\"Day\":18},{\"Ozone\":31.0,\"Solar.R\":244.0,\"Wind\":10.9,\"Temp\":78,\"Month\":8,\"Day\":19},{\"Ozone\":44.0,\"Solar.R\":190.0,\"Wind\":10.3,\"Temp\":78,\"Month\":8,\"Day\":20},{\"Ozone\":21.0,\"Solar.R\":259.0,\"Wind\":15.5,\"Temp\":77,\"Month\":8,\"Day\":21},{\"Ozone\":9.0,\"Solar.R\":36.0,\"Wind\":14.3,\"Temp\":72,\"Month\":8,\"Day\":22},{\"Ozone\":null,\"Solar.R\":255.0,\"Wind\":12.6,\"Temp\":75,\"Month\":8,\"Day\":23},{\"Ozone\":45.0,\"Solar.R\":212.0,\"Wind\":9.7,\"Temp\":79,\"Month\":8,\"Day\":24},{\"Ozone\":168.0,\"Solar.R\":238.0,\"Wind\":3.4,\"Temp\":81,\"Month\":8,\"Day\":25},{\"Ozone\":73.0,\"Solar.R\":215.0,\"Wind\":8.0,\"Temp\":86,\"Month\":8,\"Day\":26},{\"Ozone\":null,\"Solar.R\":153.0,\"Wind\":5.7,\"Temp\":88,\"Month\":8,\"Day\":27},{\"Ozone\":76.0,\"Solar.R\":203.0,\"Wind\":9.7,\"Temp\":97,\"Month\":8,\"Day\":28},{\"Ozone\":118.0,\"Solar.R\":225.0,\"Wind\":2.3,\"Temp\":94,\"Month\":8,\"Day\":29},{\"Ozone\":84.0,\"Solar.R\":237.0,\"Wind\":6.3,\"Temp\":96,\"Month\":8,\"Day\":30},{\"Ozone\":85.0,\"Solar.R\":188.0,\"Wind\":6.3,\"Temp\":94,\"Month\":8,\"Day\":31},{\"Ozone\":96.0,\"Solar.R\":167.0,\"Wind\":6.9,\"Temp\":91,\"Month\":9,\"Day\":1},{\"Ozone\":78.0,\"Solar.R\":197.0,\"Wind\":5.1,\"Temp\":92,\"Month\":9,\"Day\":2},{\"Ozone\":73.0,\"Solar.R\":183.0,\"Wind\":2.8,\"Temp\":93,\"Month\":9,\"Day\":3},{\"Ozone\":91.0,\"Solar.R\":189.0,\"Wind\":4.6,\"Temp\":93,\"Month\":9,\"Day\":4},{\"Ozone\":47.0,\"Solar.R\":95.0,\"Wind\":7.4,\"Temp\":87,\"Month\":9,\"Day\":5},{\"Ozone\":32.0,\"Solar.R\":92.0,\"Wind\":15.5,\"Temp\":84,\"Month\":9,\"Day\":6},{\"Ozone\":20.0,\"Solar.R\":252.0,\"Wind\":10.9,\"Temp\":80,\"Month\":9,\"Day\":7},{\"Ozone\":23.0,\"Solar.R\":220.0,\"Wind\":10.3,\"Temp\":78,\"Month\":9,\"Day\":8},{\"Ozone\":21.0,\"Solar.R\":230.0,\"Wind\":10.9,\"Temp\":75,\"Month\":9,\"Day\":9},{\"Ozone\":24.0,\"Solar.R\":259.0,\"Wind\":9.7,\"Temp\":73,\"Month\":9,\"Day\":10},{\"Ozone\":44.0,\"Solar.R\":236.0,\"Wind\":14.9,\"Temp\":81,\"Month\":9,\"Day\":11},{\"Ozone\":21.0,\"Solar.R\":259.0,\"Wind\":15.5,\"Temp\":76,\"Month\":9,\"Day\":12},{\"Ozone\":28.0,\"Solar.R\":238.0,\"Wind\":6.3,\"Temp\":77,\"Month\":9,\"Day\":13},{\"Ozone\":9.0,\"Solar.R\":24.0,\"Wind\":10.9,\"Temp\":71,\"Month\":9,\"Day\":14},{\"Ozone\":13.0,\"Solar.R\":112.0,\"Wind\":11.5,\"Temp\":71,\"Month\":9,\"Day\":15},{\"Ozone\":46.0,\"Solar.R\":237.0,\"Wind\":6.9,\"Temp\":78,\"Month\":9,\"Day\":16},{\"Ozone\":18.0,\"Solar.R\":224.0,\"Wind\":13.8,\"Temp\":67,\"Month\":9,\"Day\":17},{\"Ozone\":13.0,\"Solar.R\":27.0,\"Wind\":10.3,\"Temp\":76,\"Month\":9,\"Day\":18},{\"Ozone\":24.0,\"Solar.R\":238.0,\"Wind\":10.3,\"Temp\":68,\"Month\":9,\"Day\":19},{\"Ozone\":16.0,\"Solar.R\":201.0,\"Wind\":8.0,\"Temp\":82,\"Month\":9,\"Day\":20},{\"Ozone\":13.0,\"Solar.R\":238.0,\"Wind\":12.6,\"Temp\":64,\"Month\":9,\"Day\":21},{\"Ozone\":23.0,\"Solar.R\":14.0,\"Wind\":9.2,\"Temp\":71,\"Month\":9,\"Day\":22},{\"Ozone\":36.0,\"Solar.R\":139.0,\"Wind\":10.3,\"Temp\":81,\"Month\":9,\"Day\":23},{\"Ozone\":7.0,\"Solar.R\":49.0,\"Wind\":10.3,\"Temp\":69,\"Month\":9,\"Day\":24},{\"Ozone\":14.0,\"Solar.R\":20.0,\"Wind\":16.6,\"Temp\":63,\"Month\":9,\"Day\":25},{\"Ozone\":30.0,\"Solar.R\":193.0,\"Wind\":6.9,\"Temp\":70,\"Month\":9,\"Day\":26},{\"Ozone\":null,\"Solar.R\":145.0,\"Wind\":13.2,\"Temp\":77,\"Month\":9,\"Day\":27},{\"Ozone\":14.0,\"Solar.R\":191.0,\"Wind\":14.3,\"Temp\":75,\"Month\":9,\"Day\":28},{\"Ozone\":18.0,\"Solar.R\":131.0,\"Wind\":8.0,\"Temp\":76,\"Month\":9,\"Day\":29},{\"Ozone\":20.0,\"Solar.R\":223.0,\"Wind\":11.5,\"Temp\":68,\"Month\":9,\"Day\":30}];\n",
       "        var cf = crossfilter(crossfilterData);\n",
       "        var all = cf.groupAll();\n",
       "        element.append('<div id=\"dc-a448e306-5f96-4e34-ac23-20041de5a8ec-count\"><strong class=\"filter-count\">?</strong> selected ' +\n",
       "                       'out of <strong class=\"total-count\">?</strong> records</div>' +\n",
       "                       '<div style=\"clear: both;\"></div>');\n",
       "        var count = dc.dataCount(\"#dc-a448e306-5f96-4e34-ac23-20041de5a8ec-count\");\n",
       "        count.dimension(cf).group(all);\n",
       "        var prop = \"Solar.R\";\n",
       "        var propId = prop.replace(\".\", \"_\") + \"_\" + \"Sum\";\n",
       "        var chartId = \"dc-a448e306-5f96-4e34-ac23-20041de5a8ec-chart-\" + propId;\n",
       "        element.append('<div style=\"float: left;\" id=\"' + chartId + '\"><strong>' + prop + '</strong>' +\n",
       "                       '<div style=\"clear: both;\"></div></div>');\n",
       "        var dim = cf.dimension(pluck(prop));\n",
       "        var group = dim.group().reduceSum(function(d) {return d[\"Ozone\"];})\n",
       "        var min = dim.bottom(1)[0][prop];\n",
       "        var max = dim.top(1)[0][prop] + 1;\n",
       "        var chart = dc.pieChart(\"#\" + chartId);\n",
       "        chart.dimension(dim).group(group);\n",
       "        \n",
       "        var prop = \"Ozone\";\n",
       "        var propId = prop.replace(\".\", \"_\") + \"_\" + \"Mean\";\n",
       "        var chartId = \"dc-a448e306-5f96-4e34-ac23-20041de5a8ec-chart-\" + propId;\n",
       "        element.append('<div style=\"float: left;\" id=\"' + chartId + '\"><strong>' + prop + '</strong>' +\n",
       "                       '<div style=\"clear: both;\"></div></div>');\n",
       "        var dim = cf.dimension(pluck(prop));\n",
       "         var group = dim.group().reduce(\n",
       "function(p,v) {\n",
       "      ++p.count\n",
       "      p.sums += v[\"Ozone\"];\n",
       "      p.averages = (p.count === 0) ? 0 : p.sums/p.count; \n",
       "    return p;\n",
       "  }, \n",
       "function(p,v) {\n",
       "      --p.count\n",
       "      p.sums -= v[\"Ozone\"];\n",
       "      p.averages = (p.count === 0) ? 0 : p.sums/p.count;\n",
       "    return p;\n",
       "  },\n",
       "function reduceInitAvg() {\n",
       "  return {count:0, sums:0, averages:0};\n",
       "} )\n",
       "        var min = dim.bottom(1)[0][prop];\n",
       "        var max = dim.top(1)[0][prop] + 1;\n",
       "        var chart = dc.lineChart(\"#\" + chartId);\n",
       "        chart.dimension(dim).group(group)\n",
       "            .x(d3.time.scale().domain([min, max]))\n",
       "            .elasticY(true)\n",
       "            .elasticX(true)\n",
       "            .renderArea(true)\n",
       "            .width(400).height(200).valueAccessor(function (p) {return p.value.averages;});;\n",
       "        \n",
       "        var prop = \"Day\";\n",
       "        var propId = prop.replace(\".\", \"_\") + \"_\" + \"CumulativeCount\";\n",
       "        var chartId = \"dc-a448e306-5f96-4e34-ac23-20041de5a8ec-chart-\" + propId;\n",
       "        element.append('<div style=\"float: left;\" id=\"' + chartId + '\"><strong>' + prop + '</strong>' +\n",
       "                       '<div style=\"clear: both;\"></div></div>');\n",
       "        var dim = cf.dimension(pluck(prop));\n",
       "        var _group = dim.group().reduceCount(); \n",
       "var group = { \n",
       "    all:function () { \n",
       "     var cumulate = 0; \n",
       "     var g = []; \n",
       "     _group.all().forEach(function(d,i) { \n",
       "       cumulate += d.value; \n",
       "       g.push({key:d.key,value:cumulate}) \n",
       "     }); \n",
       "     return g; \n",
       "    } \n",
       "  }; \n",
       "        var min = dim.bottom(1)[0][prop];\n",
       "        var max = dim.top(1)[0][prop] + 1;\n",
       "        var chart = dc.lineChart(\"#\" + chartId);\n",
       "        chart.dimension(dim).group(group)\n",
       "            .x(d3.time.scale().domain([min, max]))\n",
       "            .elasticY(true)\n",
       "            .elasticX(true)\n",
       "            .renderArea(true)\n",
       "            .width(400).height(200).valueAccessor(function (p) {return p.value;});;\n",
       "        \n",
       "        var prop = \"Month\";\n",
       "        var propId = prop.replace(\".\", \"_\") + \"_\" + \"CumulativeSum\";\n",
       "        var chartId = \"dc-a448e306-5f96-4e34-ac23-20041de5a8ec-chart-\" + propId;\n",
       "        element.append('<div style=\"float: left;\" id=\"' + chartId + '\"><strong>' + prop + '</strong>' +\n",
       "                       '<div style=\"clear: both;\"></div></div>');\n",
       "        var dim = cf.dimension(pluck(prop));\n",
       "        var _group = dim.group().reduceSum(function(d) {return +d[\"Ozone\"];}); \n",
       "var group = { \n",
       "    all:function () { \n",
       "     var cumulate = 0; \n",
       "     var g = []; \n",
       "     _group.all().forEach(function(d,i) { \n",
       "       cumulate += d.value; \n",
       "       g.push({key:d.key,value:cumulate}) \n",
       "     }); \n",
       "     return g; \n",
       "    } \n",
       "  }; \n",
       "        var min = dim.bottom(1)[0][prop];\n",
       "        var max = dim.top(1)[0][prop] + 1;\n",
       "        var chart = dc.lineChart(\"#\" + chartId);\n",
       "        chart.dimension(dim).group(group)\n",
       "            .x(d3.time.scale().domain([min, max]))\n",
       "            .elasticY(true)\n",
       "            .elasticX(true)\n",
       "            .renderArea(true)\n",
       "            .width(400).height(200).valueAccessor(function (p) {return p.value;});;\n",
       "        \n",
       "        dc.renderAll();\n",
       "        dc.redrawAll();\n",
       "    });"
      ],
      "text/plain": [
       "<crossfilter.Crossfilter instance at 0x7ff68852f320>"
      ]
     },
     "execution_count": 40,
     "metadata": {},
     "output_type": "execute_result"
    }
   ],
   "source": [
    "Crossfilter(airq,\n",
    "            ['PieChart', 'LineChart', 'LineChart', 'LineChart'],\n",
    "            ['Solar.R', 'Ozone', 'Day', 'Month'],\n",
    "            ['Sum', 'Mean', 'CumulativeCount', 'CumulativeSum'],\n",
    "            ['Ozone', 'Ozone', 'Ozone', 'Ozone'],\n",
    "            [[400, 200], [400, 200], [400, 200], [400, 200]]\n",
    ")"
   ]
  },
  {
   "cell_type": "markdown",
   "metadata": {
    "collapsed": false
   },
   "source": [
    "## Scatter plot"
   ]
  },
  {
   "cell_type": "code",
   "execution_count": 41,
   "metadata": {
    "collapsed": false
   },
   "outputs": [
    {
     "data": {
      "application/javascript": [
       "\n",
       "    require(['d3', 'crossfilter', 'dc'], function(d3, crossfilter, dc) {\n",
       "        var pluck = function(prop) {\n",
       "            return function(d) { return d[prop]; };\n",
       "        };\n",
       "        var pluck2 = function(prop1, prop2, prop3) {\n",
       "            return function(d) { return [+d[prop1], +d[prop2], +d[prop3]]; };\n",
       "        };\n",
       "        \n",
       "        var crossfilterData = [{\"Ozone\":41.0,\"Solar.R\":190.0,\"Wind\":7.4,\"Temp\":67,\"Month\":5,\"Day\":1},{\"Ozone\":36.0,\"Solar.R\":118.0,\"Wind\":8.0,\"Temp\":72,\"Month\":5,\"Day\":2},{\"Ozone\":12.0,\"Solar.R\":149.0,\"Wind\":12.6,\"Temp\":74,\"Month\":5,\"Day\":3},{\"Ozone\":18.0,\"Solar.R\":313.0,\"Wind\":11.5,\"Temp\":62,\"Month\":5,\"Day\":4},{\"Ozone\":null,\"Solar.R\":null,\"Wind\":14.3,\"Temp\":56,\"Month\":5,\"Day\":5},{\"Ozone\":28.0,\"Solar.R\":null,\"Wind\":14.9,\"Temp\":66,\"Month\":5,\"Day\":6},{\"Ozone\":23.0,\"Solar.R\":299.0,\"Wind\":8.6,\"Temp\":65,\"Month\":5,\"Day\":7},{\"Ozone\":19.0,\"Solar.R\":99.0,\"Wind\":13.8,\"Temp\":59,\"Month\":5,\"Day\":8},{\"Ozone\":8.0,\"Solar.R\":19.0,\"Wind\":20.1,\"Temp\":61,\"Month\":5,\"Day\":9},{\"Ozone\":null,\"Solar.R\":194.0,\"Wind\":8.6,\"Temp\":69,\"Month\":5,\"Day\":10},{\"Ozone\":7.0,\"Solar.R\":null,\"Wind\":6.9,\"Temp\":74,\"Month\":5,\"Day\":11},{\"Ozone\":16.0,\"Solar.R\":256.0,\"Wind\":9.7,\"Temp\":69,\"Month\":5,\"Day\":12},{\"Ozone\":11.0,\"Solar.R\":290.0,\"Wind\":9.2,\"Temp\":66,\"Month\":5,\"Day\":13},{\"Ozone\":14.0,\"Solar.R\":274.0,\"Wind\":10.9,\"Temp\":68,\"Month\":5,\"Day\":14},{\"Ozone\":18.0,\"Solar.R\":65.0,\"Wind\":13.2,\"Temp\":58,\"Month\":5,\"Day\":15},{\"Ozone\":14.0,\"Solar.R\":334.0,\"Wind\":11.5,\"Temp\":64,\"Month\":5,\"Day\":16},{\"Ozone\":34.0,\"Solar.R\":307.0,\"Wind\":12.0,\"Temp\":66,\"Month\":5,\"Day\":17},{\"Ozone\":6.0,\"Solar.R\":78.0,\"Wind\":18.4,\"Temp\":57,\"Month\":5,\"Day\":18},{\"Ozone\":30.0,\"Solar.R\":322.0,\"Wind\":11.5,\"Temp\":68,\"Month\":5,\"Day\":19},{\"Ozone\":11.0,\"Solar.R\":44.0,\"Wind\":9.7,\"Temp\":62,\"Month\":5,\"Day\":20},{\"Ozone\":1.0,\"Solar.R\":8.0,\"Wind\":9.7,\"Temp\":59,\"Month\":5,\"Day\":21},{\"Ozone\":11.0,\"Solar.R\":320.0,\"Wind\":16.6,\"Temp\":73,\"Month\":5,\"Day\":22},{\"Ozone\":4.0,\"Solar.R\":25.0,\"Wind\":9.7,\"Temp\":61,\"Month\":5,\"Day\":23},{\"Ozone\":32.0,\"Solar.R\":92.0,\"Wind\":12.0,\"Temp\":61,\"Month\":5,\"Day\":24},{\"Ozone\":null,\"Solar.R\":66.0,\"Wind\":16.6,\"Temp\":57,\"Month\":5,\"Day\":25},{\"Ozone\":null,\"Solar.R\":266.0,\"Wind\":14.9,\"Temp\":58,\"Month\":5,\"Day\":26},{\"Ozone\":null,\"Solar.R\":null,\"Wind\":8.0,\"Temp\":57,\"Month\":5,\"Day\":27},{\"Ozone\":23.0,\"Solar.R\":13.0,\"Wind\":12.0,\"Temp\":67,\"Month\":5,\"Day\":28},{\"Ozone\":45.0,\"Solar.R\":252.0,\"Wind\":14.9,\"Temp\":81,\"Month\":5,\"Day\":29},{\"Ozone\":115.0,\"Solar.R\":223.0,\"Wind\":5.7,\"Temp\":79,\"Month\":5,\"Day\":30},{\"Ozone\":37.0,\"Solar.R\":279.0,\"Wind\":7.4,\"Temp\":76,\"Month\":5,\"Day\":31},{\"Ozone\":null,\"Solar.R\":286.0,\"Wind\":8.6,\"Temp\":78,\"Month\":6,\"Day\":1},{\"Ozone\":null,\"Solar.R\":287.0,\"Wind\":9.7,\"Temp\":74,\"Month\":6,\"Day\":2},{\"Ozone\":null,\"Solar.R\":242.0,\"Wind\":16.1,\"Temp\":67,\"Month\":6,\"Day\":3},{\"Ozone\":null,\"Solar.R\":186.0,\"Wind\":9.2,\"Temp\":84,\"Month\":6,\"Day\":4},{\"Ozone\":null,\"Solar.R\":220.0,\"Wind\":8.6,\"Temp\":85,\"Month\":6,\"Day\":5},{\"Ozone\":null,\"Solar.R\":264.0,\"Wind\":14.3,\"Temp\":79,\"Month\":6,\"Day\":6},{\"Ozone\":29.0,\"Solar.R\":127.0,\"Wind\":9.7,\"Temp\":82,\"Month\":6,\"Day\":7},{\"Ozone\":null,\"Solar.R\":273.0,\"Wind\":6.9,\"Temp\":87,\"Month\":6,\"Day\":8},{\"Ozone\":71.0,\"Solar.R\":291.0,\"Wind\":13.8,\"Temp\":90,\"Month\":6,\"Day\":9},{\"Ozone\":39.0,\"Solar.R\":323.0,\"Wind\":11.5,\"Temp\":87,\"Month\":6,\"Day\":10},{\"Ozone\":null,\"Solar.R\":259.0,\"Wind\":10.9,\"Temp\":93,\"Month\":6,\"Day\":11},{\"Ozone\":null,\"Solar.R\":250.0,\"Wind\":9.2,\"Temp\":92,\"Month\":6,\"Day\":12},{\"Ozone\":23.0,\"Solar.R\":148.0,\"Wind\":8.0,\"Temp\":82,\"Month\":6,\"Day\":13},{\"Ozone\":null,\"Solar.R\":332.0,\"Wind\":13.8,\"Temp\":80,\"Month\":6,\"Day\":14},{\"Ozone\":null,\"Solar.R\":322.0,\"Wind\":11.5,\"Temp\":79,\"Month\":6,\"Day\":15},{\"Ozone\":21.0,\"Solar.R\":191.0,\"Wind\":14.9,\"Temp\":77,\"Month\":6,\"Day\":16},{\"Ozone\":37.0,\"Solar.R\":284.0,\"Wind\":20.7,\"Temp\":72,\"Month\":6,\"Day\":17},{\"Ozone\":20.0,\"Solar.R\":37.0,\"Wind\":9.2,\"Temp\":65,\"Month\":6,\"Day\":18},{\"Ozone\":12.0,\"Solar.R\":120.0,\"Wind\":11.5,\"Temp\":73,\"Month\":6,\"Day\":19},{\"Ozone\":13.0,\"Solar.R\":137.0,\"Wind\":10.3,\"Temp\":76,\"Month\":6,\"Day\":20},{\"Ozone\":null,\"Solar.R\":150.0,\"Wind\":6.3,\"Temp\":77,\"Month\":6,\"Day\":21},{\"Ozone\":null,\"Solar.R\":59.0,\"Wind\":1.7,\"Temp\":76,\"Month\":6,\"Day\":22},{\"Ozone\":null,\"Solar.R\":91.0,\"Wind\":4.6,\"Temp\":76,\"Month\":6,\"Day\":23},{\"Ozone\":null,\"Solar.R\":250.0,\"Wind\":6.3,\"Temp\":76,\"Month\":6,\"Day\":24},{\"Ozone\":null,\"Solar.R\":135.0,\"Wind\":8.0,\"Temp\":75,\"Month\":6,\"Day\":25},{\"Ozone\":null,\"Solar.R\":127.0,\"Wind\":8.0,\"Temp\":78,\"Month\":6,\"Day\":26},{\"Ozone\":null,\"Solar.R\":47.0,\"Wind\":10.3,\"Temp\":73,\"Month\":6,\"Day\":27},{\"Ozone\":null,\"Solar.R\":98.0,\"Wind\":11.5,\"Temp\":80,\"Month\":6,\"Day\":28},{\"Ozone\":null,\"Solar.R\":31.0,\"Wind\":14.9,\"Temp\":77,\"Month\":6,\"Day\":29},{\"Ozone\":null,\"Solar.R\":138.0,\"Wind\":8.0,\"Temp\":83,\"Month\":6,\"Day\":30},{\"Ozone\":135.0,\"Solar.R\":269.0,\"Wind\":4.1,\"Temp\":84,\"Month\":7,\"Day\":1},{\"Ozone\":49.0,\"Solar.R\":248.0,\"Wind\":9.2,\"Temp\":85,\"Month\":7,\"Day\":2},{\"Ozone\":32.0,\"Solar.R\":236.0,\"Wind\":9.2,\"Temp\":81,\"Month\":7,\"Day\":3},{\"Ozone\":null,\"Solar.R\":101.0,\"Wind\":10.9,\"Temp\":84,\"Month\":7,\"Day\":4},{\"Ozone\":64.0,\"Solar.R\":175.0,\"Wind\":4.6,\"Temp\":83,\"Month\":7,\"Day\":5},{\"Ozone\":40.0,\"Solar.R\":314.0,\"Wind\":10.9,\"Temp\":83,\"Month\":7,\"Day\":6},{\"Ozone\":77.0,\"Solar.R\":276.0,\"Wind\":5.1,\"Temp\":88,\"Month\":7,\"Day\":7},{\"Ozone\":97.0,\"Solar.R\":267.0,\"Wind\":6.3,\"Temp\":92,\"Month\":7,\"Day\":8},{\"Ozone\":97.0,\"Solar.R\":272.0,\"Wind\":5.7,\"Temp\":92,\"Month\":7,\"Day\":9},{\"Ozone\":85.0,\"Solar.R\":175.0,\"Wind\":7.4,\"Temp\":89,\"Month\":7,\"Day\":10},{\"Ozone\":null,\"Solar.R\":139.0,\"Wind\":8.6,\"Temp\":82,\"Month\":7,\"Day\":11},{\"Ozone\":10.0,\"Solar.R\":264.0,\"Wind\":14.3,\"Temp\":73,\"Month\":7,\"Day\":12},{\"Ozone\":27.0,\"Solar.R\":175.0,\"Wind\":14.9,\"Temp\":81,\"Month\":7,\"Day\":13},{\"Ozone\":null,\"Solar.R\":291.0,\"Wind\":14.9,\"Temp\":91,\"Month\":7,\"Day\":14},{\"Ozone\":7.0,\"Solar.R\":48.0,\"Wind\":14.3,\"Temp\":80,\"Month\":7,\"Day\":15},{\"Ozone\":48.0,\"Solar.R\":260.0,\"Wind\":6.9,\"Temp\":81,\"Month\":7,\"Day\":16},{\"Ozone\":35.0,\"Solar.R\":274.0,\"Wind\":10.3,\"Temp\":82,\"Month\":7,\"Day\":17},{\"Ozone\":61.0,\"Solar.R\":285.0,\"Wind\":6.3,\"Temp\":84,\"Month\":7,\"Day\":18},{\"Ozone\":79.0,\"Solar.R\":187.0,\"Wind\":5.1,\"Temp\":87,\"Month\":7,\"Day\":19},{\"Ozone\":63.0,\"Solar.R\":220.0,\"Wind\":11.5,\"Temp\":85,\"Month\":7,\"Day\":20},{\"Ozone\":16.0,\"Solar.R\":7.0,\"Wind\":6.9,\"Temp\":74,\"Month\":7,\"Day\":21},{\"Ozone\":null,\"Solar.R\":258.0,\"Wind\":9.7,\"Temp\":81,\"Month\":7,\"Day\":22},{\"Ozone\":null,\"Solar.R\":295.0,\"Wind\":11.5,\"Temp\":82,\"Month\":7,\"Day\":23},{\"Ozone\":80.0,\"Solar.R\":294.0,\"Wind\":8.6,\"Temp\":86,\"Month\":7,\"Day\":24},{\"Ozone\":108.0,\"Solar.R\":223.0,\"Wind\":8.0,\"Temp\":85,\"Month\":7,\"Day\":25},{\"Ozone\":20.0,\"Solar.R\":81.0,\"Wind\":8.6,\"Temp\":82,\"Month\":7,\"Day\":26},{\"Ozone\":52.0,\"Solar.R\":82.0,\"Wind\":12.0,\"Temp\":86,\"Month\":7,\"Day\":27},{\"Ozone\":82.0,\"Solar.R\":213.0,\"Wind\":7.4,\"Temp\":88,\"Month\":7,\"Day\":28},{\"Ozone\":50.0,\"Solar.R\":275.0,\"Wind\":7.4,\"Temp\":86,\"Month\":7,\"Day\":29},{\"Ozone\":64.0,\"Solar.R\":253.0,\"Wind\":7.4,\"Temp\":83,\"Month\":7,\"Day\":30},{\"Ozone\":59.0,\"Solar.R\":254.0,\"Wind\":9.2,\"Temp\":81,\"Month\":7,\"Day\":31},{\"Ozone\":39.0,\"Solar.R\":83.0,\"Wind\":6.9,\"Temp\":81,\"Month\":8,\"Day\":1},{\"Ozone\":9.0,\"Solar.R\":24.0,\"Wind\":13.8,\"Temp\":81,\"Month\":8,\"Day\":2},{\"Ozone\":16.0,\"Solar.R\":77.0,\"Wind\":7.4,\"Temp\":82,\"Month\":8,\"Day\":3},{\"Ozone\":78.0,\"Solar.R\":null,\"Wind\":6.9,\"Temp\":86,\"Month\":8,\"Day\":4},{\"Ozone\":35.0,\"Solar.R\":null,\"Wind\":7.4,\"Temp\":85,\"Month\":8,\"Day\":5},{\"Ozone\":66.0,\"Solar.R\":null,\"Wind\":4.6,\"Temp\":87,\"Month\":8,\"Day\":6},{\"Ozone\":122.0,\"Solar.R\":255.0,\"Wind\":4.0,\"Temp\":89,\"Month\":8,\"Day\":7},{\"Ozone\":89.0,\"Solar.R\":229.0,\"Wind\":10.3,\"Temp\":90,\"Month\":8,\"Day\":8},{\"Ozone\":110.0,\"Solar.R\":207.0,\"Wind\":8.0,\"Temp\":90,\"Month\":8,\"Day\":9},{\"Ozone\":null,\"Solar.R\":222.0,\"Wind\":8.6,\"Temp\":92,\"Month\":8,\"Day\":10},{\"Ozone\":null,\"Solar.R\":137.0,\"Wind\":11.5,\"Temp\":86,\"Month\":8,\"Day\":11},{\"Ozone\":44.0,\"Solar.R\":192.0,\"Wind\":11.5,\"Temp\":86,\"Month\":8,\"Day\":12},{\"Ozone\":28.0,\"Solar.R\":273.0,\"Wind\":11.5,\"Temp\":82,\"Month\":8,\"Day\":13},{\"Ozone\":65.0,\"Solar.R\":157.0,\"Wind\":9.7,\"Temp\":80,\"Month\":8,\"Day\":14},{\"Ozone\":null,\"Solar.R\":64.0,\"Wind\":11.5,\"Temp\":79,\"Month\":8,\"Day\":15},{\"Ozone\":22.0,\"Solar.R\":71.0,\"Wind\":10.3,\"Temp\":77,\"Month\":8,\"Day\":16},{\"Ozone\":59.0,\"Solar.R\":51.0,\"Wind\":6.3,\"Temp\":79,\"Month\":8,\"Day\":17},{\"Ozone\":23.0,\"Solar.R\":115.0,\"Wind\":7.4,\"Temp\":76,\"Month\":8,\"Day\":18},{\"Ozone\":31.0,\"Solar.R\":244.0,\"Wind\":10.9,\"Temp\":78,\"Month\":8,\"Day\":19},{\"Ozone\":44.0,\"Solar.R\":190.0,\"Wind\":10.3,\"Temp\":78,\"Month\":8,\"Day\":20},{\"Ozone\":21.0,\"Solar.R\":259.0,\"Wind\":15.5,\"Temp\":77,\"Month\":8,\"Day\":21},{\"Ozone\":9.0,\"Solar.R\":36.0,\"Wind\":14.3,\"Temp\":72,\"Month\":8,\"Day\":22},{\"Ozone\":null,\"Solar.R\":255.0,\"Wind\":12.6,\"Temp\":75,\"Month\":8,\"Day\":23},{\"Ozone\":45.0,\"Solar.R\":212.0,\"Wind\":9.7,\"Temp\":79,\"Month\":8,\"Day\":24},{\"Ozone\":168.0,\"Solar.R\":238.0,\"Wind\":3.4,\"Temp\":81,\"Month\":8,\"Day\":25},{\"Ozone\":73.0,\"Solar.R\":215.0,\"Wind\":8.0,\"Temp\":86,\"Month\":8,\"Day\":26},{\"Ozone\":null,\"Solar.R\":153.0,\"Wind\":5.7,\"Temp\":88,\"Month\":8,\"Day\":27},{\"Ozone\":76.0,\"Solar.R\":203.0,\"Wind\":9.7,\"Temp\":97,\"Month\":8,\"Day\":28},{\"Ozone\":118.0,\"Solar.R\":225.0,\"Wind\":2.3,\"Temp\":94,\"Month\":8,\"Day\":29},{\"Ozone\":84.0,\"Solar.R\":237.0,\"Wind\":6.3,\"Temp\":96,\"Month\":8,\"Day\":30},{\"Ozone\":85.0,\"Solar.R\":188.0,\"Wind\":6.3,\"Temp\":94,\"Month\":8,\"Day\":31},{\"Ozone\":96.0,\"Solar.R\":167.0,\"Wind\":6.9,\"Temp\":91,\"Month\":9,\"Day\":1},{\"Ozone\":78.0,\"Solar.R\":197.0,\"Wind\":5.1,\"Temp\":92,\"Month\":9,\"Day\":2},{\"Ozone\":73.0,\"Solar.R\":183.0,\"Wind\":2.8,\"Temp\":93,\"Month\":9,\"Day\":3},{\"Ozone\":91.0,\"Solar.R\":189.0,\"Wind\":4.6,\"Temp\":93,\"Month\":9,\"Day\":4},{\"Ozone\":47.0,\"Solar.R\":95.0,\"Wind\":7.4,\"Temp\":87,\"Month\":9,\"Day\":5},{\"Ozone\":32.0,\"Solar.R\":92.0,\"Wind\":15.5,\"Temp\":84,\"Month\":9,\"Day\":6},{\"Ozone\":20.0,\"Solar.R\":252.0,\"Wind\":10.9,\"Temp\":80,\"Month\":9,\"Day\":7},{\"Ozone\":23.0,\"Solar.R\":220.0,\"Wind\":10.3,\"Temp\":78,\"Month\":9,\"Day\":8},{\"Ozone\":21.0,\"Solar.R\":230.0,\"Wind\":10.9,\"Temp\":75,\"Month\":9,\"Day\":9},{\"Ozone\":24.0,\"Solar.R\":259.0,\"Wind\":9.7,\"Temp\":73,\"Month\":9,\"Day\":10},{\"Ozone\":44.0,\"Solar.R\":236.0,\"Wind\":14.9,\"Temp\":81,\"Month\":9,\"Day\":11},{\"Ozone\":21.0,\"Solar.R\":259.0,\"Wind\":15.5,\"Temp\":76,\"Month\":9,\"Day\":12},{\"Ozone\":28.0,\"Solar.R\":238.0,\"Wind\":6.3,\"Temp\":77,\"Month\":9,\"Day\":13},{\"Ozone\":9.0,\"Solar.R\":24.0,\"Wind\":10.9,\"Temp\":71,\"Month\":9,\"Day\":14},{\"Ozone\":13.0,\"Solar.R\":112.0,\"Wind\":11.5,\"Temp\":71,\"Month\":9,\"Day\":15},{\"Ozone\":46.0,\"Solar.R\":237.0,\"Wind\":6.9,\"Temp\":78,\"Month\":9,\"Day\":16},{\"Ozone\":18.0,\"Solar.R\":224.0,\"Wind\":13.8,\"Temp\":67,\"Month\":9,\"Day\":17},{\"Ozone\":13.0,\"Solar.R\":27.0,\"Wind\":10.3,\"Temp\":76,\"Month\":9,\"Day\":18},{\"Ozone\":24.0,\"Solar.R\":238.0,\"Wind\":10.3,\"Temp\":68,\"Month\":9,\"Day\":19},{\"Ozone\":16.0,\"Solar.R\":201.0,\"Wind\":8.0,\"Temp\":82,\"Month\":9,\"Day\":20},{\"Ozone\":13.0,\"Solar.R\":238.0,\"Wind\":12.6,\"Temp\":64,\"Month\":9,\"Day\":21},{\"Ozone\":23.0,\"Solar.R\":14.0,\"Wind\":9.2,\"Temp\":71,\"Month\":9,\"Day\":22},{\"Ozone\":36.0,\"Solar.R\":139.0,\"Wind\":10.3,\"Temp\":81,\"Month\":9,\"Day\":23},{\"Ozone\":7.0,\"Solar.R\":49.0,\"Wind\":10.3,\"Temp\":69,\"Month\":9,\"Day\":24},{\"Ozone\":14.0,\"Solar.R\":20.0,\"Wind\":16.6,\"Temp\":63,\"Month\":9,\"Day\":25},{\"Ozone\":30.0,\"Solar.R\":193.0,\"Wind\":6.9,\"Temp\":70,\"Month\":9,\"Day\":26},{\"Ozone\":null,\"Solar.R\":145.0,\"Wind\":13.2,\"Temp\":77,\"Month\":9,\"Day\":27},{\"Ozone\":14.0,\"Solar.R\":191.0,\"Wind\":14.3,\"Temp\":75,\"Month\":9,\"Day\":28},{\"Ozone\":18.0,\"Solar.R\":131.0,\"Wind\":8.0,\"Temp\":76,\"Month\":9,\"Day\":29},{\"Ozone\":20.0,\"Solar.R\":223.0,\"Wind\":11.5,\"Temp\":68,\"Month\":9,\"Day\":30}];\n",
       "        var cf = crossfilter(crossfilterData);\n",
       "        var all = cf.groupAll();\n",
       "        element.append('<div id=\"dc-4ba322cc-4d86-458a-9f6b-3332d841eec8-count\"><strong class=\"filter-count\">?</strong> selected ' +\n",
       "                       'out of <strong class=\"total-count\">?</strong> records</div>' +\n",
       "                       '<div style=\"clear: both;\"></div>');\n",
       "        var count = dc.dataCount(\"#dc-4ba322cc-4d86-458a-9f6b-3332d841eec8-count\");\n",
       "        count.dimension(cf).group(all);\n",
       "        var prop = \"Solar.R\";\n",
       "        var propId = prop.replace(\".\", \"_\") + \"_\" + \"Count\";\n",
       "        var chartId = \"dc-4ba322cc-4d86-458a-9f6b-3332d841eec8-chart-\" + propId;\n",
       "        element.append('<div style=\"float: left;\" id=\"' + chartId + '\"><strong>' + prop + '</strong>' +\n",
       "                       '<div style=\"clear: both;\"></div></div>');\n",
       "        var dim = cf.dimension(pluck(prop));\n",
       "        var group = dim.group().reduceCount()\n",
       "        var min = dim.bottom(1)[0][prop];\n",
       "        var max = dim.top(1)[0][prop] + 1;\n",
       "        var chart = dc.pieChart(\"#\" + chartId);\n",
       "        chart.dimension(dim).group(group);\n",
       "        \n",
       "\n",
       "        var prop1 = \"Ozone\";\n",
       "        var prop2 = \"Day\";\n",
       "        var prop3 = \"Month\";\n",
       "        var propId = prop1.replace(\".\", \"_\")+\"___\"+prop2.replace(\".\", \"_\")+\"___\"+prop3.replace(\".\", \"_\")+  \"_\" +\"Count\";\n",
       "        var chartId = \"dc-4ba322cc-4d86-458a-9f6b-3332d841eec8-chart-\" + propId;\n",
       "        var catColors = d3.scale.ordinal()\n",
       "                  .domain([0, 1, 2, 3, 4, 5, 6, 7, 8, 9])\n",
       "                  .range([\"#ff2600\", \"#ffdd00\", \"#9dff00\", \"#00d4ff\", \"#1500ff\", \"#6a00ff\", \"#e900ff\", \"#000000\", \"#770000\", \"#ff7700\"]);\n",
       "        element.append('<div style=\"float: left;\" id=\"' + chartId + '\"><strong>' +propId+ '</strong>' +\n",
       "                       '<div style=\"clear: both;\"></div></div>');\n",
       "        var dim = cf.dimension(pluck2(prop1, prop2, prop3));\n",
       "        var group = dim.group().reduceCount()\n",
       "        var min = dim.bottom(1)[0][prop1];\n",
       "        var max = dim.top(1)[0][prop1] + 1;\n",
       "        var chart = dc.scatterPlot(\"#\" + chartId);\n",
       "        chart.dimension(dim).group(group)\n",
       "            .x(d3.scale.linear().domain([min, max]))\n",
       "            .elasticY(true)\n",
       "            .elasticX(true)\n",
       "            .margins({top: 20, right: 40, bottom: 20, left: 40})\n",
       "            .width(400).height(200)\n",
       "  .existenceAccessor(function(d) {\n",
       "    return d.value > 0;\n",
       "  })\n",
       "  .colorAccessor(function(d) {\n",
       "    return d.key[2];\n",
       "  })\n",
       "          .colors(catColors)\n",
       "          .filterHandler(function(dim, filters) {\n",
       "                if(!filters || !filters.length)\n",
       "                    dim.filter(null);\n",
       "                else {\n",
       "                    dim.filterFunction(function(d) {\n",
       "                        return filters[0].isFiltered([d[0],d[1]]);\n",
       "                      })\n",
       "                }\n",
       "          })\n",
       "        \n",
       "        dc.renderAll();\n",
       "        dc.redrawAll();\n",
       "    });"
      ],
      "text/plain": [
       "<crossfilter.Crossfilter instance at 0x7ff68850c440>"
      ]
     },
     "execution_count": 41,
     "metadata": {},
     "output_type": "execute_result"
    }
   ],
   "source": [
    "# Crossfilter(dataframe, list of graph types, list of group dimension\n",
    "# (for scatter plot ['dim1', 'dim3', 'dim3'->color])\n",
    "# , aggregator, dimension for aggregator, list of sizes)\n",
    "airq.Month = airq.Month.map(lambda x: int(x))\n",
    "Crossfilter(airq,\n",
    "            ['PieChart', 'ScatterPlot'],\n",
    "            ['Solar.R', ['Ozone', 'Day', 'Month']],\n",
    "            ['Count', 'Count'],\n",
    "            ['None', 'None'],\n",
    "            [[400, 200], [400, 200]]\n",
    ")"
   ]
  },
  {
   "cell_type": "markdown",
   "metadata": {},
   "source": [
    "# TimeChart"
   ]
  },
  {
   "cell_type": "code",
   "execution_count": 42,
   "metadata": {
    "collapsed": false
   },
   "outputs": [
    {
     "data": {
      "application/javascript": [
       "\n",
       "    require(['d3', 'crossfilter', 'dc'], function(d3, crossfilter, dc) {\n",
       "        var pluck = function(prop) {\n",
       "            return function(d) { return d[prop]; };\n",
       "        };\n",
       "        var pluck2 = function(prop1, prop2, prop3) {\n",
       "            return function(d) { return [+d[prop1], +d[prop2], +d[prop3]]; };\n",
       "        };\n",
       "        \n",
       "        var crossfilterData = [{\"Ozone\":41.0,\"Solar.R\":190.0,\"Wind\":7.4,\"Temp\":67,\"Month\":5,\"Day\":1,\"Date\":1462060800000},{\"Ozone\":36.0,\"Solar.R\":118.0,\"Wind\":8.0,\"Temp\":72,\"Month\":5,\"Day\":2,\"Date\":1462147200000},{\"Ozone\":12.0,\"Solar.R\":149.0,\"Wind\":12.6,\"Temp\":74,\"Month\":5,\"Day\":3,\"Date\":1462233600000},{\"Ozone\":18.0,\"Solar.R\":313.0,\"Wind\":11.5,\"Temp\":62,\"Month\":5,\"Day\":4,\"Date\":1462320000000},{\"Ozone\":null,\"Solar.R\":null,\"Wind\":14.3,\"Temp\":56,\"Month\":5,\"Day\":5,\"Date\":1462406400000},{\"Ozone\":28.0,\"Solar.R\":null,\"Wind\":14.9,\"Temp\":66,\"Month\":5,\"Day\":6,\"Date\":1462492800000},{\"Ozone\":23.0,\"Solar.R\":299.0,\"Wind\":8.6,\"Temp\":65,\"Month\":5,\"Day\":7,\"Date\":1462579200000},{\"Ozone\":19.0,\"Solar.R\":99.0,\"Wind\":13.8,\"Temp\":59,\"Month\":5,\"Day\":8,\"Date\":1462665600000},{\"Ozone\":8.0,\"Solar.R\":19.0,\"Wind\":20.1,\"Temp\":61,\"Month\":5,\"Day\":9,\"Date\":1462752000000},{\"Ozone\":null,\"Solar.R\":194.0,\"Wind\":8.6,\"Temp\":69,\"Month\":5,\"Day\":10,\"Date\":1462838400000},{\"Ozone\":7.0,\"Solar.R\":null,\"Wind\":6.9,\"Temp\":74,\"Month\":5,\"Day\":11,\"Date\":1462924800000},{\"Ozone\":16.0,\"Solar.R\":256.0,\"Wind\":9.7,\"Temp\":69,\"Month\":5,\"Day\":12,\"Date\":1463011200000},{\"Ozone\":11.0,\"Solar.R\":290.0,\"Wind\":9.2,\"Temp\":66,\"Month\":5,\"Day\":13,\"Date\":1463097600000},{\"Ozone\":14.0,\"Solar.R\":274.0,\"Wind\":10.9,\"Temp\":68,\"Month\":5,\"Day\":14,\"Date\":1463184000000},{\"Ozone\":18.0,\"Solar.R\":65.0,\"Wind\":13.2,\"Temp\":58,\"Month\":5,\"Day\":15,\"Date\":1463270400000},{\"Ozone\":14.0,\"Solar.R\":334.0,\"Wind\":11.5,\"Temp\":64,\"Month\":5,\"Day\":16,\"Date\":1463356800000},{\"Ozone\":34.0,\"Solar.R\":307.0,\"Wind\":12.0,\"Temp\":66,\"Month\":5,\"Day\":17,\"Date\":1463443200000},{\"Ozone\":6.0,\"Solar.R\":78.0,\"Wind\":18.4,\"Temp\":57,\"Month\":5,\"Day\":18,\"Date\":1463529600000},{\"Ozone\":30.0,\"Solar.R\":322.0,\"Wind\":11.5,\"Temp\":68,\"Month\":5,\"Day\":19,\"Date\":1463616000000},{\"Ozone\":11.0,\"Solar.R\":44.0,\"Wind\":9.7,\"Temp\":62,\"Month\":5,\"Day\":20,\"Date\":1463702400000},{\"Ozone\":1.0,\"Solar.R\":8.0,\"Wind\":9.7,\"Temp\":59,\"Month\":5,\"Day\":21,\"Date\":1463788800000},{\"Ozone\":11.0,\"Solar.R\":320.0,\"Wind\":16.6,\"Temp\":73,\"Month\":5,\"Day\":22,\"Date\":1463875200000},{\"Ozone\":4.0,\"Solar.R\":25.0,\"Wind\":9.7,\"Temp\":61,\"Month\":5,\"Day\":23,\"Date\":1463961600000},{\"Ozone\":32.0,\"Solar.R\":92.0,\"Wind\":12.0,\"Temp\":61,\"Month\":5,\"Day\":24,\"Date\":1464048000000},{\"Ozone\":null,\"Solar.R\":66.0,\"Wind\":16.6,\"Temp\":57,\"Month\":5,\"Day\":25,\"Date\":1464134400000},{\"Ozone\":null,\"Solar.R\":266.0,\"Wind\":14.9,\"Temp\":58,\"Month\":5,\"Day\":26,\"Date\":1464220800000},{\"Ozone\":null,\"Solar.R\":null,\"Wind\":8.0,\"Temp\":57,\"Month\":5,\"Day\":27,\"Date\":1464307200000},{\"Ozone\":23.0,\"Solar.R\":13.0,\"Wind\":12.0,\"Temp\":67,\"Month\":5,\"Day\":28,\"Date\":1464393600000},{\"Ozone\":45.0,\"Solar.R\":252.0,\"Wind\":14.9,\"Temp\":81,\"Month\":5,\"Day\":29,\"Date\":1464480000000},{\"Ozone\":115.0,\"Solar.R\":223.0,\"Wind\":5.7,\"Temp\":79,\"Month\":5,\"Day\":30,\"Date\":1464566400000},{\"Ozone\":37.0,\"Solar.R\":279.0,\"Wind\":7.4,\"Temp\":76,\"Month\":5,\"Day\":31,\"Date\":1464652800000},{\"Ozone\":null,\"Solar.R\":286.0,\"Wind\":8.6,\"Temp\":78,\"Month\":6,\"Day\":1,\"Date\":1464739200000},{\"Ozone\":null,\"Solar.R\":287.0,\"Wind\":9.7,\"Temp\":74,\"Month\":6,\"Day\":2,\"Date\":1464825600000},{\"Ozone\":null,\"Solar.R\":242.0,\"Wind\":16.1,\"Temp\":67,\"Month\":6,\"Day\":3,\"Date\":1464912000000},{\"Ozone\":null,\"Solar.R\":186.0,\"Wind\":9.2,\"Temp\":84,\"Month\":6,\"Day\":4,\"Date\":1464998400000},{\"Ozone\":null,\"Solar.R\":220.0,\"Wind\":8.6,\"Temp\":85,\"Month\":6,\"Day\":5,\"Date\":1465084800000},{\"Ozone\":null,\"Solar.R\":264.0,\"Wind\":14.3,\"Temp\":79,\"Month\":6,\"Day\":6,\"Date\":1465171200000},{\"Ozone\":29.0,\"Solar.R\":127.0,\"Wind\":9.7,\"Temp\":82,\"Month\":6,\"Day\":7,\"Date\":1465257600000},{\"Ozone\":null,\"Solar.R\":273.0,\"Wind\":6.9,\"Temp\":87,\"Month\":6,\"Day\":8,\"Date\":1465344000000},{\"Ozone\":71.0,\"Solar.R\":291.0,\"Wind\":13.8,\"Temp\":90,\"Month\":6,\"Day\":9,\"Date\":1465430400000},{\"Ozone\":39.0,\"Solar.R\":323.0,\"Wind\":11.5,\"Temp\":87,\"Month\":6,\"Day\":10,\"Date\":1465516800000},{\"Ozone\":null,\"Solar.R\":259.0,\"Wind\":10.9,\"Temp\":93,\"Month\":6,\"Day\":11,\"Date\":1465603200000},{\"Ozone\":null,\"Solar.R\":250.0,\"Wind\":9.2,\"Temp\":92,\"Month\":6,\"Day\":12,\"Date\":1465689600000},{\"Ozone\":23.0,\"Solar.R\":148.0,\"Wind\":8.0,\"Temp\":82,\"Month\":6,\"Day\":13,\"Date\":1465776000000},{\"Ozone\":null,\"Solar.R\":332.0,\"Wind\":13.8,\"Temp\":80,\"Month\":6,\"Day\":14,\"Date\":1465862400000},{\"Ozone\":null,\"Solar.R\":322.0,\"Wind\":11.5,\"Temp\":79,\"Month\":6,\"Day\":15,\"Date\":1465948800000},{\"Ozone\":21.0,\"Solar.R\":191.0,\"Wind\":14.9,\"Temp\":77,\"Month\":6,\"Day\":16,\"Date\":1466035200000},{\"Ozone\":37.0,\"Solar.R\":284.0,\"Wind\":20.7,\"Temp\":72,\"Month\":6,\"Day\":17,\"Date\":1466121600000},{\"Ozone\":20.0,\"Solar.R\":37.0,\"Wind\":9.2,\"Temp\":65,\"Month\":6,\"Day\":18,\"Date\":1466208000000},{\"Ozone\":12.0,\"Solar.R\":120.0,\"Wind\":11.5,\"Temp\":73,\"Month\":6,\"Day\":19,\"Date\":1466294400000},{\"Ozone\":13.0,\"Solar.R\":137.0,\"Wind\":10.3,\"Temp\":76,\"Month\":6,\"Day\":20,\"Date\":1466380800000},{\"Ozone\":null,\"Solar.R\":150.0,\"Wind\":6.3,\"Temp\":77,\"Month\":6,\"Day\":21,\"Date\":1466467200000},{\"Ozone\":null,\"Solar.R\":59.0,\"Wind\":1.7,\"Temp\":76,\"Month\":6,\"Day\":22,\"Date\":1466553600000},{\"Ozone\":null,\"Solar.R\":91.0,\"Wind\":4.6,\"Temp\":76,\"Month\":6,\"Day\":23,\"Date\":1466640000000},{\"Ozone\":null,\"Solar.R\":250.0,\"Wind\":6.3,\"Temp\":76,\"Month\":6,\"Day\":24,\"Date\":1466726400000},{\"Ozone\":null,\"Solar.R\":135.0,\"Wind\":8.0,\"Temp\":75,\"Month\":6,\"Day\":25,\"Date\":1466812800000},{\"Ozone\":null,\"Solar.R\":127.0,\"Wind\":8.0,\"Temp\":78,\"Month\":6,\"Day\":26,\"Date\":1466899200000},{\"Ozone\":null,\"Solar.R\":47.0,\"Wind\":10.3,\"Temp\":73,\"Month\":6,\"Day\":27,\"Date\":1466985600000},{\"Ozone\":null,\"Solar.R\":98.0,\"Wind\":11.5,\"Temp\":80,\"Month\":6,\"Day\":28,\"Date\":1467072000000},{\"Ozone\":null,\"Solar.R\":31.0,\"Wind\":14.9,\"Temp\":77,\"Month\":6,\"Day\":29,\"Date\":1467158400000},{\"Ozone\":null,\"Solar.R\":138.0,\"Wind\":8.0,\"Temp\":83,\"Month\":6,\"Day\":30,\"Date\":1467244800000},{\"Ozone\":135.0,\"Solar.R\":269.0,\"Wind\":4.1,\"Temp\":84,\"Month\":7,\"Day\":1,\"Date\":1467331200000},{\"Ozone\":49.0,\"Solar.R\":248.0,\"Wind\":9.2,\"Temp\":85,\"Month\":7,\"Day\":2,\"Date\":1467417600000},{\"Ozone\":32.0,\"Solar.R\":236.0,\"Wind\":9.2,\"Temp\":81,\"Month\":7,\"Day\":3,\"Date\":1467504000000},{\"Ozone\":null,\"Solar.R\":101.0,\"Wind\":10.9,\"Temp\":84,\"Month\":7,\"Day\":4,\"Date\":1467590400000},{\"Ozone\":64.0,\"Solar.R\":175.0,\"Wind\":4.6,\"Temp\":83,\"Month\":7,\"Day\":5,\"Date\":1467676800000},{\"Ozone\":40.0,\"Solar.R\":314.0,\"Wind\":10.9,\"Temp\":83,\"Month\":7,\"Day\":6,\"Date\":1467763200000},{\"Ozone\":77.0,\"Solar.R\":276.0,\"Wind\":5.1,\"Temp\":88,\"Month\":7,\"Day\":7,\"Date\":1467849600000},{\"Ozone\":97.0,\"Solar.R\":267.0,\"Wind\":6.3,\"Temp\":92,\"Month\":7,\"Day\":8,\"Date\":1467936000000},{\"Ozone\":97.0,\"Solar.R\":272.0,\"Wind\":5.7,\"Temp\":92,\"Month\":7,\"Day\":9,\"Date\":1468022400000},{\"Ozone\":85.0,\"Solar.R\":175.0,\"Wind\":7.4,\"Temp\":89,\"Month\":7,\"Day\":10,\"Date\":1468108800000},{\"Ozone\":null,\"Solar.R\":139.0,\"Wind\":8.6,\"Temp\":82,\"Month\":7,\"Day\":11,\"Date\":1468195200000},{\"Ozone\":10.0,\"Solar.R\":264.0,\"Wind\":14.3,\"Temp\":73,\"Month\":7,\"Day\":12,\"Date\":1468281600000},{\"Ozone\":27.0,\"Solar.R\":175.0,\"Wind\":14.9,\"Temp\":81,\"Month\":7,\"Day\":13,\"Date\":1468368000000},{\"Ozone\":null,\"Solar.R\":291.0,\"Wind\":14.9,\"Temp\":91,\"Month\":7,\"Day\":14,\"Date\":1468454400000},{\"Ozone\":7.0,\"Solar.R\":48.0,\"Wind\":14.3,\"Temp\":80,\"Month\":7,\"Day\":15,\"Date\":1468540800000},{\"Ozone\":48.0,\"Solar.R\":260.0,\"Wind\":6.9,\"Temp\":81,\"Month\":7,\"Day\":16,\"Date\":1468627200000},{\"Ozone\":35.0,\"Solar.R\":274.0,\"Wind\":10.3,\"Temp\":82,\"Month\":7,\"Day\":17,\"Date\":1468713600000},{\"Ozone\":61.0,\"Solar.R\":285.0,\"Wind\":6.3,\"Temp\":84,\"Month\":7,\"Day\":18,\"Date\":1468800000000},{\"Ozone\":79.0,\"Solar.R\":187.0,\"Wind\":5.1,\"Temp\":87,\"Month\":7,\"Day\":19,\"Date\":1468886400000},{\"Ozone\":63.0,\"Solar.R\":220.0,\"Wind\":11.5,\"Temp\":85,\"Month\":7,\"Day\":20,\"Date\":1468972800000},{\"Ozone\":16.0,\"Solar.R\":7.0,\"Wind\":6.9,\"Temp\":74,\"Month\":7,\"Day\":21,\"Date\":1469059200000},{\"Ozone\":null,\"Solar.R\":258.0,\"Wind\":9.7,\"Temp\":81,\"Month\":7,\"Day\":22,\"Date\":1469145600000},{\"Ozone\":null,\"Solar.R\":295.0,\"Wind\":11.5,\"Temp\":82,\"Month\":7,\"Day\":23,\"Date\":1469232000000},{\"Ozone\":80.0,\"Solar.R\":294.0,\"Wind\":8.6,\"Temp\":86,\"Month\":7,\"Day\":24,\"Date\":1469318400000},{\"Ozone\":108.0,\"Solar.R\":223.0,\"Wind\":8.0,\"Temp\":85,\"Month\":7,\"Day\":25,\"Date\":1469404800000},{\"Ozone\":20.0,\"Solar.R\":81.0,\"Wind\":8.6,\"Temp\":82,\"Month\":7,\"Day\":26,\"Date\":1469491200000},{\"Ozone\":52.0,\"Solar.R\":82.0,\"Wind\":12.0,\"Temp\":86,\"Month\":7,\"Day\":27,\"Date\":1469577600000},{\"Ozone\":82.0,\"Solar.R\":213.0,\"Wind\":7.4,\"Temp\":88,\"Month\":7,\"Day\":28,\"Date\":1469664000000},{\"Ozone\":50.0,\"Solar.R\":275.0,\"Wind\":7.4,\"Temp\":86,\"Month\":7,\"Day\":29,\"Date\":1469750400000},{\"Ozone\":64.0,\"Solar.R\":253.0,\"Wind\":7.4,\"Temp\":83,\"Month\":7,\"Day\":30,\"Date\":1469836800000},{\"Ozone\":59.0,\"Solar.R\":254.0,\"Wind\":9.2,\"Temp\":81,\"Month\":7,\"Day\":31,\"Date\":1469923200000},{\"Ozone\":39.0,\"Solar.R\":83.0,\"Wind\":6.9,\"Temp\":81,\"Month\":8,\"Day\":1,\"Date\":1470009600000},{\"Ozone\":9.0,\"Solar.R\":24.0,\"Wind\":13.8,\"Temp\":81,\"Month\":8,\"Day\":2,\"Date\":1470096000000},{\"Ozone\":16.0,\"Solar.R\":77.0,\"Wind\":7.4,\"Temp\":82,\"Month\":8,\"Day\":3,\"Date\":1470182400000},{\"Ozone\":78.0,\"Solar.R\":null,\"Wind\":6.9,\"Temp\":86,\"Month\":8,\"Day\":4,\"Date\":1470268800000},{\"Ozone\":35.0,\"Solar.R\":null,\"Wind\":7.4,\"Temp\":85,\"Month\":8,\"Day\":5,\"Date\":1470355200000},{\"Ozone\":66.0,\"Solar.R\":null,\"Wind\":4.6,\"Temp\":87,\"Month\":8,\"Day\":6,\"Date\":1470441600000},{\"Ozone\":122.0,\"Solar.R\":255.0,\"Wind\":4.0,\"Temp\":89,\"Month\":8,\"Day\":7,\"Date\":1470528000000},{\"Ozone\":89.0,\"Solar.R\":229.0,\"Wind\":10.3,\"Temp\":90,\"Month\":8,\"Day\":8,\"Date\":1470614400000},{\"Ozone\":110.0,\"Solar.R\":207.0,\"Wind\":8.0,\"Temp\":90,\"Month\":8,\"Day\":9,\"Date\":1470700800000},{\"Ozone\":null,\"Solar.R\":222.0,\"Wind\":8.6,\"Temp\":92,\"Month\":8,\"Day\":10,\"Date\":1470787200000},{\"Ozone\":null,\"Solar.R\":137.0,\"Wind\":11.5,\"Temp\":86,\"Month\":8,\"Day\":11,\"Date\":1470873600000},{\"Ozone\":44.0,\"Solar.R\":192.0,\"Wind\":11.5,\"Temp\":86,\"Month\":8,\"Day\":12,\"Date\":1470960000000},{\"Ozone\":28.0,\"Solar.R\":273.0,\"Wind\":11.5,\"Temp\":82,\"Month\":8,\"Day\":13,\"Date\":1471046400000},{\"Ozone\":65.0,\"Solar.R\":157.0,\"Wind\":9.7,\"Temp\":80,\"Month\":8,\"Day\":14,\"Date\":1471132800000},{\"Ozone\":null,\"Solar.R\":64.0,\"Wind\":11.5,\"Temp\":79,\"Month\":8,\"Day\":15,\"Date\":1471219200000},{\"Ozone\":22.0,\"Solar.R\":71.0,\"Wind\":10.3,\"Temp\":77,\"Month\":8,\"Day\":16,\"Date\":1471305600000},{\"Ozone\":59.0,\"Solar.R\":51.0,\"Wind\":6.3,\"Temp\":79,\"Month\":8,\"Day\":17,\"Date\":1471392000000},{\"Ozone\":23.0,\"Solar.R\":115.0,\"Wind\":7.4,\"Temp\":76,\"Month\":8,\"Day\":18,\"Date\":1471478400000},{\"Ozone\":31.0,\"Solar.R\":244.0,\"Wind\":10.9,\"Temp\":78,\"Month\":8,\"Day\":19,\"Date\":1471564800000},{\"Ozone\":44.0,\"Solar.R\":190.0,\"Wind\":10.3,\"Temp\":78,\"Month\":8,\"Day\":20,\"Date\":1471651200000},{\"Ozone\":21.0,\"Solar.R\":259.0,\"Wind\":15.5,\"Temp\":77,\"Month\":8,\"Day\":21,\"Date\":1471737600000},{\"Ozone\":9.0,\"Solar.R\":36.0,\"Wind\":14.3,\"Temp\":72,\"Month\":8,\"Day\":22,\"Date\":1471824000000},{\"Ozone\":null,\"Solar.R\":255.0,\"Wind\":12.6,\"Temp\":75,\"Month\":8,\"Day\":23,\"Date\":1471910400000},{\"Ozone\":45.0,\"Solar.R\":212.0,\"Wind\":9.7,\"Temp\":79,\"Month\":8,\"Day\":24,\"Date\":1471996800000},{\"Ozone\":168.0,\"Solar.R\":238.0,\"Wind\":3.4,\"Temp\":81,\"Month\":8,\"Day\":25,\"Date\":1472083200000},{\"Ozone\":73.0,\"Solar.R\":215.0,\"Wind\":8.0,\"Temp\":86,\"Month\":8,\"Day\":26,\"Date\":1472169600000},{\"Ozone\":null,\"Solar.R\":153.0,\"Wind\":5.7,\"Temp\":88,\"Month\":8,\"Day\":27,\"Date\":1472256000000},{\"Ozone\":76.0,\"Solar.R\":203.0,\"Wind\":9.7,\"Temp\":97,\"Month\":8,\"Day\":28,\"Date\":1472342400000},{\"Ozone\":118.0,\"Solar.R\":225.0,\"Wind\":2.3,\"Temp\":94,\"Month\":8,\"Day\":29,\"Date\":1472428800000},{\"Ozone\":84.0,\"Solar.R\":237.0,\"Wind\":6.3,\"Temp\":96,\"Month\":8,\"Day\":30,\"Date\":1472515200000},{\"Ozone\":85.0,\"Solar.R\":188.0,\"Wind\":6.3,\"Temp\":94,\"Month\":8,\"Day\":31,\"Date\":1472601600000},{\"Ozone\":96.0,\"Solar.R\":167.0,\"Wind\":6.9,\"Temp\":91,\"Month\":9,\"Day\":1,\"Date\":1472688000000},{\"Ozone\":78.0,\"Solar.R\":197.0,\"Wind\":5.1,\"Temp\":92,\"Month\":9,\"Day\":2,\"Date\":1472774400000},{\"Ozone\":73.0,\"Solar.R\":183.0,\"Wind\":2.8,\"Temp\":93,\"Month\":9,\"Day\":3,\"Date\":1472860800000},{\"Ozone\":91.0,\"Solar.R\":189.0,\"Wind\":4.6,\"Temp\":93,\"Month\":9,\"Day\":4,\"Date\":1472947200000},{\"Ozone\":47.0,\"Solar.R\":95.0,\"Wind\":7.4,\"Temp\":87,\"Month\":9,\"Day\":5,\"Date\":1473033600000},{\"Ozone\":32.0,\"Solar.R\":92.0,\"Wind\":15.5,\"Temp\":84,\"Month\":9,\"Day\":6,\"Date\":1473120000000},{\"Ozone\":20.0,\"Solar.R\":252.0,\"Wind\":10.9,\"Temp\":80,\"Month\":9,\"Day\":7,\"Date\":1473206400000},{\"Ozone\":23.0,\"Solar.R\":220.0,\"Wind\":10.3,\"Temp\":78,\"Month\":9,\"Day\":8,\"Date\":1473292800000},{\"Ozone\":21.0,\"Solar.R\":230.0,\"Wind\":10.9,\"Temp\":75,\"Month\":9,\"Day\":9,\"Date\":1473379200000},{\"Ozone\":24.0,\"Solar.R\":259.0,\"Wind\":9.7,\"Temp\":73,\"Month\":9,\"Day\":10,\"Date\":1473465600000},{\"Ozone\":44.0,\"Solar.R\":236.0,\"Wind\":14.9,\"Temp\":81,\"Month\":9,\"Day\":11,\"Date\":1473552000000},{\"Ozone\":21.0,\"Solar.R\":259.0,\"Wind\":15.5,\"Temp\":76,\"Month\":9,\"Day\":12,\"Date\":1473638400000},{\"Ozone\":28.0,\"Solar.R\":238.0,\"Wind\":6.3,\"Temp\":77,\"Month\":9,\"Day\":13,\"Date\":1473724800000},{\"Ozone\":9.0,\"Solar.R\":24.0,\"Wind\":10.9,\"Temp\":71,\"Month\":9,\"Day\":14,\"Date\":1473811200000},{\"Ozone\":13.0,\"Solar.R\":112.0,\"Wind\":11.5,\"Temp\":71,\"Month\":9,\"Day\":15,\"Date\":1473897600000},{\"Ozone\":46.0,\"Solar.R\":237.0,\"Wind\":6.9,\"Temp\":78,\"Month\":9,\"Day\":16,\"Date\":1473984000000},{\"Ozone\":18.0,\"Solar.R\":224.0,\"Wind\":13.8,\"Temp\":67,\"Month\":9,\"Day\":17,\"Date\":1474070400000},{\"Ozone\":13.0,\"Solar.R\":27.0,\"Wind\":10.3,\"Temp\":76,\"Month\":9,\"Day\":18,\"Date\":1474156800000},{\"Ozone\":24.0,\"Solar.R\":238.0,\"Wind\":10.3,\"Temp\":68,\"Month\":9,\"Day\":19,\"Date\":1474243200000},{\"Ozone\":16.0,\"Solar.R\":201.0,\"Wind\":8.0,\"Temp\":82,\"Month\":9,\"Day\":20,\"Date\":1474329600000},{\"Ozone\":13.0,\"Solar.R\":238.0,\"Wind\":12.6,\"Temp\":64,\"Month\":9,\"Day\":21,\"Date\":1474416000000},{\"Ozone\":23.0,\"Solar.R\":14.0,\"Wind\":9.2,\"Temp\":71,\"Month\":9,\"Day\":22,\"Date\":1474502400000},{\"Ozone\":36.0,\"Solar.R\":139.0,\"Wind\":10.3,\"Temp\":81,\"Month\":9,\"Day\":23,\"Date\":1474588800000},{\"Ozone\":7.0,\"Solar.R\":49.0,\"Wind\":10.3,\"Temp\":69,\"Month\":9,\"Day\":24,\"Date\":1474675200000},{\"Ozone\":14.0,\"Solar.R\":20.0,\"Wind\":16.6,\"Temp\":63,\"Month\":9,\"Day\":25,\"Date\":1474761600000},{\"Ozone\":30.0,\"Solar.R\":193.0,\"Wind\":6.9,\"Temp\":70,\"Month\":9,\"Day\":26,\"Date\":1474848000000},{\"Ozone\":null,\"Solar.R\":145.0,\"Wind\":13.2,\"Temp\":77,\"Month\":9,\"Day\":27,\"Date\":1474934400000},{\"Ozone\":14.0,\"Solar.R\":191.0,\"Wind\":14.3,\"Temp\":75,\"Month\":9,\"Day\":28,\"Date\":1475020800000},{\"Ozone\":18.0,\"Solar.R\":131.0,\"Wind\":8.0,\"Temp\":76,\"Month\":9,\"Day\":29,\"Date\":1475107200000},{\"Ozone\":20.0,\"Solar.R\":223.0,\"Wind\":11.5,\"Temp\":68,\"Month\":9,\"Day\":30,\"Date\":1475193600000}];\n",
       "        var cf = crossfilter(crossfilterData);\n",
       "        var all = cf.groupAll();\n",
       "        element.append('<div id=\"dc-b8011f07-9464-4876-a46f-3b85d9e31565-count\"><strong class=\"filter-count\">?</strong> selected ' +\n",
       "                       'out of <strong class=\"total-count\">?</strong> records</div>' +\n",
       "                       '<div style=\"clear: both;\"></div>');\n",
       "        var count = dc.dataCount(\"#dc-b8011f07-9464-4876-a46f-3b85d9e31565-count\");\n",
       "        count.dimension(cf).group(all);\n",
       "        var prop = \"Date\";\n",
       "\n",
       "        var propId = prop.replace(\".\", \"_\") + \"_\" + \"CumulativeSum\";\n",
       "        var chartId = \"dc-b8011f07-9464-4876-a46f-3b85d9e31565-chart-\" + propId;\n",
       "        element.append('<div style=\"float: left;\" id=\"' + chartId + '\"><strong>' + prop + '</strong>' +\n",
       "                       '<div style=\"clear: both;\"></div></div>');\n",
       "        var dim = cf.dimension(pluck(prop));\n",
       "        var _group = dim.group().reduceSum(function(d) {return +d[\"Ozone\"];}); \n",
       "var group = { \n",
       "    all:function () { \n",
       "     var cumulate = 0; \n",
       "     var g = []; \n",
       "     _group.all().forEach(function(d,i) { \n",
       "       cumulate += d.value; \n",
       "       g.push({key:d.key,value:cumulate}) \n",
       "     }); \n",
       "     return g; \n",
       "    } \n",
       "  }; \n",
       "\n",
       "        \n",
       "        var min = dim.bottom(1)[0][prop];\n",
       "        var max = dim.top(1)[0][prop] + 1;\n",
       "        var chart = dc.barChart(\"#\" + chartId);\n",
       "        chart.dimension(dim).group(group)\n",
       "            .x(d3.time.scale().domain([Date(min), Date(max)]))\n",
       "            .elasticY(true)\n",
       "            .elasticX(true)\n",
       "            .width(400).height(200).valueAccessor(function (p) {return p.value;});;\n",
       "        \n",
       "\n",
       "        var prop1 = \"Date\";\n",
       "        var prop2 = \"Ozone\";\n",
       "        var prop3 = \"Wind\";\n",
       "        var propId = prop1.replace(\".\", \"_\")+\"___\"+prop2.replace(\".\", \"_\")+\"___\"+prop3.replace(\".\", \"_\")+  \"_\" +\"Count\";\n",
       "        var chartId = \"dc-b8011f07-9464-4876-a46f-3b85d9e31565-chart-\" + propId;\n",
       "        var catColors = d3.scale.ordinal()\n",
       "                  .domain([0, 1, 2, 3, 4, 5, 6, 7, 8, 9])\n",
       "                  .range([\"#ff2600\", \"#ffdd00\", \"#9dff00\", \"#00d4ff\", \"#1500ff\", \"#6a00ff\", \"#e900ff\", \"#000000\", \"#770000\", \"#ff7700\"]);\n",
       "        element.append('<div style=\"float: left;\" id=\"' + chartId + '\"><strong>' +propId+ '</strong>' +\n",
       "                       '<div style=\"clear: both;\"></div></div>');\n",
       "        var dim = cf.dimension(pluck2(prop1, prop2, prop3));\n",
       "        var group = dim.group().reduceCount()\n",
       "        var min = dim.bottom(1)[0][prop1];\n",
       "        var max = dim.top(1)[0][prop1] + 1;\n",
       "        var chart = dc.scatterPlot(\"#\" + chartId);\n",
       "        chart.dimension(dim).group(group)\n",
       "            .x(d3.time.scale().domain([Date(min), Date(max)]))\n",
       "            .elasticY(true)\n",
       "            .elasticX(true)\n",
       "            .margins({top: 20, right: 40, bottom: 20, left: 40})\n",
       "            .width(400).height(200)\n",
       "  .existenceAccessor(function(d) {\n",
       "    return d.value > 0;\n",
       "  })\n",
       "  .colorAccessor(function(d) {\n",
       "    return d.key[2];\n",
       "  })\n",
       "          .colors(catColors)\n",
       "          .filterHandler(function(dim, filters) {\n",
       "                if(!filters || !filters.length)\n",
       "                    dim.filter(null);\n",
       "                else {\n",
       "                    dim.filterFunction(function(d) {\n",
       "                        return filters[0].isFiltered([d[0],d[1]]);\n",
       "                      })\n",
       "                }\n",
       "          })\n",
       "        \n",
       "        dc.renderAll();\n",
       "        dc.redrawAll();\n",
       "    });"
      ],
      "text/plain": [
       "<crossfilter.Crossfilter instance at 0x7ff688597b00>"
      ]
     },
     "execution_count": 42,
     "metadata": {},
     "output_type": "execute_result"
    }
   ],
   "source": [
    "import datetime\n",
    "airq['Date'] = airq.apply(lambda x: datetime.date(2016, int(x.Month), int(x.Day)), axis=1)\n",
    "Crossfilter(airq,\n",
    "            ['TimeChart', 'ScatterPlotTime'],\n",
    "            ['Date', ['Date', 'Ozone', 'Wind']],\n",
    "            ['CumulativeSum', 'Count'],\n",
    "            ['Ozone', 'None'],\n",
    "            [[400, 200], [400, 200]]\n",
    ")"
   ]
  }
 ],
 "metadata": {
  "kernelspec": {
   "display_name": "Python 2",
   "language": "python",
   "name": "python2"
  },
  "language_info": {
   "codemirror_mode": {
    "name": "ipython",
    "version": 2
   },
   "file_extension": ".py",
   "mimetype": "text/x-python",
   "name": "python",
   "nbconvert_exporter": "python",
   "pygments_lexer": "ipython2",
   "version": "2.7.9"
  }
 },
 "nbformat": 4,
 "nbformat_minor": 0
}
